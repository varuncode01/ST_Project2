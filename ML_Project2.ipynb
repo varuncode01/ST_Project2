{
 "cells": [
  {
   "cell_type": "markdown",
   "metadata": {
    "editable": true,
    "id": "vncDsAP0Gaoa",
    "slideshow": {
     "slide_type": ""
    },
    "tags": []
   },
   "source": [
    "# **Project Name**    -\n",
    "\n"
   ]
  },
  {
   "cell_type": "markdown",
   "metadata": {
    "id": "beRrZCGUAJYm"
   },
   "source": [
    "##### **Project Type**    - EDA/Regression/Classification/Unsupervised\n",
    "##### **Contribution**    - Individual/Team\n",
    "##### **Team Member 1 -**\n",
    "##### **Team Member 2 -**\n",
    "##### **Team Member 3 -**\n",
    "##### **Team Member 4 -**"
   ]
  },
  {
   "cell_type": "markdown",
   "metadata": {
    "id": "FJNUwmbgGyua"
   },
   "source": [
    "# **Project Summary -**"
   ]
  },
  {
   "cell_type": "markdown",
   "metadata": {
    "id": "F6v_1wHtG2nS"
   },
   "source": [
    "Write the summary here within 500-600 words."
   ]
  },
  {
   "cell_type": "markdown",
   "metadata": {
    "id": "w6K7xa23Elo4"
   },
   "source": [
    "# **GitHub Link -**"
   ]
  },
  {
   "cell_type": "markdown",
   "metadata": {
    "id": "h1o69JH3Eqqn"
   },
   "source": [
    "Provide your GitHub Link here."
   ]
  },
  {
   "cell_type": "markdown",
   "metadata": {
    "id": "yQaldy8SH6Dl"
   },
   "source": [
    "# **Problem Statement**\n"
   ]
  },
  {
   "cell_type": "markdown",
   "metadata": {
    "id": "DpeJGUA3kjGy"
   },
   "source": [
    "**Write Problem Statement Here.**"
   ]
  },
  {
   "cell_type": "markdown",
   "metadata": {
    "id": "mDgbUHAGgjLW"
   },
   "source": [
    "# **General Guidelines** : -  "
   ]
  },
  {
   "cell_type": "markdown",
   "metadata": {
    "id": "ZrxVaUj-hHfC"
   },
   "source": [
    "1.   Well-structured, formatted, and commented code is required.\n",
    "2.   Exception Handling, Production Grade Code & Deployment Ready Code will be a plus. Those students will be awarded some additional credits.\n",
    "     \n",
    "     The additional credits will have advantages over other students during Star Student selection.\n",
    "       \n",
    "             [ Note: - Deployment Ready Code is defined as, the whole .ipynb notebook should be executable in one go\n",
    "                       without a single error logged. ]\n",
    "\n",
    "3.   Each and every logic should have proper comments.\n",
    "4. You may add as many number of charts you want. Make Sure for each and every chart the following format should be answered.\n",
    "        \n",
    "\n",
    "```\n",
    "# Chart visualization code\n",
    "```\n",
    "            \n",
    "\n",
    "*   Why did you pick the specific chart?\n",
    "*   What is/are the insight(s) found from the chart?\n",
    "* Will the gained insights help creating a positive business impact?\n",
    "Are there any insights that lead to negative growth? Justify with specific reason.\n",
    "\n",
    "5. You have to create at least 15 logical & meaningful charts having important insights.\n",
    "\n",
    "\n",
    "[ Hints : - Do the Vizualization in  a structured way while following \"UBM\" Rule.\n",
    "\n",
    "U - Univariate Analysis,\n",
    "\n",
    "B - Bivariate Analysis (Numerical - Categorical, Numerical - Numerical, Categorical - Categorical)\n",
    "\n",
    "M - Multivariate Analysis\n",
    " ]\n",
    "\n",
    "\n",
    "\n",
    "\n",
    "\n",
    "6. You may add more ml algorithms for model creation. Make sure for each and every algorithm, the following format should be answered.\n",
    "\n",
    "\n",
    "*   Explain the ML Model used and it's performance using Evaluation metric Score Chart.\n",
    "\n",
    "\n",
    "*   Cross- Validation & Hyperparameter Tuning\n",
    "\n",
    "*   Have you seen any improvement? Note down the improvement with updates Evaluation metric Score Chart.\n",
    "\n",
    "*   Explain each evaluation metric's indication towards business and the business impact pf the ML model used.\n",
    "\n",
    "\n",
    "\n",
    "\n",
    "\n",
    "\n",
    "\n",
    "\n",
    "\n",
    "\n",
    "\n",
    "\n",
    "\n",
    "\n",
    "\n",
    "\n",
    "\n",
    "\n"
   ]
  },
  {
   "cell_type": "markdown",
   "metadata": {
    "id": "O_i_v8NEhb9l"
   },
   "source": [
    "# ***Let's Begin !***"
   ]
  },
  {
   "cell_type": "markdown",
   "metadata": {
    "id": "HhfV-JJviCcP"
   },
   "source": [
    "## ***1. Know Your Data***"
   ]
  },
  {
   "cell_type": "markdown",
   "metadata": {
    "id": "Y3lxredqlCYt"
   },
   "source": [
    "### Import Libraries"
   ]
  },
  {
   "cell_type": "code",
   "execution_count": 5,
   "metadata": {},
   "outputs": [
    {
     "name": "stdout",
     "output_type": "stream",
     "text": [
      "Requirement already satisfied: jupyterlab-lsp in c:\\users\\hp\\anaconda3\\lib\\site-packages (5.1.1)\n",
      "Requirement already satisfied: python-lsp-server in c:\\users\\hp\\anaconda3\\lib\\site-packages (1.12.2)\n",
      "Requirement already satisfied: jedi in c:\\users\\hp\\anaconda3\\lib\\site-packages (0.19.2)\n",
      "Requirement already satisfied: jupyter_lsp>=2.0.0 in c:\\users\\hp\\anaconda3\\lib\\site-packages (from jupyterlab-lsp) (2.2.5)\n",
      "Requirement already satisfied: jupyterlab<5.0.0a0,>=4.1.0 in c:\\users\\hp\\anaconda3\\lib\\site-packages (from jupyterlab-lsp) (4.4.4)\n",
      "Requirement already satisfied: async-lru>=1.0.0 in c:\\users\\hp\\anaconda3\\lib\\site-packages (from jupyterlab<5.0.0a0,>=4.1.0->jupyterlab-lsp) (2.0.4)\n",
      "Requirement already satisfied: httpx>=0.25.0 in c:\\users\\hp\\anaconda3\\lib\\site-packages (from jupyterlab<5.0.0a0,>=4.1.0->jupyterlab-lsp) (0.28.1)\n",
      "Requirement already satisfied: ipykernel>=6.5.0 in c:\\users\\hp\\anaconda3\\lib\\site-packages (from jupyterlab<5.0.0a0,>=4.1.0->jupyterlab-lsp) (6.29.5)\n",
      "Requirement already satisfied: jinja2>=3.0.3 in c:\\users\\hp\\anaconda3\\lib\\site-packages (from jupyterlab<5.0.0a0,>=4.1.0->jupyterlab-lsp) (3.1.6)\n",
      "Requirement already satisfied: jupyter-core in c:\\users\\hp\\anaconda3\\lib\\site-packages (from jupyterlab<5.0.0a0,>=4.1.0->jupyterlab-lsp) (5.8.1)\n",
      "Requirement already satisfied: jupyter-server<3,>=2.4.0 in c:\\users\\hp\\anaconda3\\lib\\site-packages (from jupyterlab<5.0.0a0,>=4.1.0->jupyterlab-lsp) (2.16.0)\n",
      "Requirement already satisfied: jupyterlab-server<3,>=2.27.1 in c:\\users\\hp\\anaconda3\\lib\\site-packages (from jupyterlab<5.0.0a0,>=4.1.0->jupyterlab-lsp) (2.27.3)\n",
      "Requirement already satisfied: notebook-shim>=0.2 in c:\\users\\hp\\anaconda3\\lib\\site-packages (from jupyterlab<5.0.0a0,>=4.1.0->jupyterlab-lsp) (0.2.4)\n",
      "Requirement already satisfied: packaging in c:\\users\\hp\\anaconda3\\lib\\site-packages (from jupyterlab<5.0.0a0,>=4.1.0->jupyterlab-lsp) (24.2)\n",
      "Requirement already satisfied: setuptools>=41.1.0 in c:\\users\\hp\\anaconda3\\lib\\site-packages (from jupyterlab<5.0.0a0,>=4.1.0->jupyterlab-lsp) (72.1.0)\n",
      "Requirement already satisfied: tornado>=6.2.0 in c:\\users\\hp\\anaconda3\\lib\\site-packages (from jupyterlab<5.0.0a0,>=4.1.0->jupyterlab-lsp) (6.5.1)\n",
      "Requirement already satisfied: traitlets in c:\\users\\hp\\anaconda3\\lib\\site-packages (from jupyterlab<5.0.0a0,>=4.1.0->jupyterlab-lsp) (5.14.3)\n",
      "Requirement already satisfied: anyio>=3.1.0 in c:\\users\\hp\\anaconda3\\lib\\site-packages (from jupyter-server<3,>=2.4.0->jupyterlab<5.0.0a0,>=4.1.0->jupyterlab-lsp) (4.7.0)\n",
      "Requirement already satisfied: argon2-cffi>=21.1 in c:\\users\\hp\\anaconda3\\lib\\site-packages (from jupyter-server<3,>=2.4.0->jupyterlab<5.0.0a0,>=4.1.0->jupyterlab-lsp) (21.3.0)\n",
      "Requirement already satisfied: jupyter-client>=7.4.4 in c:\\users\\hp\\anaconda3\\lib\\site-packages (from jupyter-server<3,>=2.4.0->jupyterlab<5.0.0a0,>=4.1.0->jupyterlab-lsp) (8.6.3)\n",
      "Requirement already satisfied: jupyter-events>=0.11.0 in c:\\users\\hp\\anaconda3\\lib\\site-packages (from jupyter-server<3,>=2.4.0->jupyterlab<5.0.0a0,>=4.1.0->jupyterlab-lsp) (0.12.0)\n",
      "Requirement already satisfied: jupyter-server-terminals>=0.4.4 in c:\\users\\hp\\anaconda3\\lib\\site-packages (from jupyter-server<3,>=2.4.0->jupyterlab<5.0.0a0,>=4.1.0->jupyterlab-lsp) (0.5.3)\n",
      "Requirement already satisfied: nbconvert>=6.4.4 in c:\\users\\hp\\anaconda3\\lib\\site-packages (from jupyter-server<3,>=2.4.0->jupyterlab<5.0.0a0,>=4.1.0->jupyterlab-lsp) (7.16.6)\n",
      "Requirement already satisfied: nbformat>=5.3.0 in c:\\users\\hp\\anaconda3\\lib\\site-packages (from jupyter-server<3,>=2.4.0->jupyterlab<5.0.0a0,>=4.1.0->jupyterlab-lsp) (5.10.4)\n",
      "Requirement already satisfied: overrides>=5.0 in c:\\users\\hp\\anaconda3\\lib\\site-packages (from jupyter-server<3,>=2.4.0->jupyterlab<5.0.0a0,>=4.1.0->jupyterlab-lsp) (7.4.0)\n",
      "Requirement already satisfied: prometheus-client>=0.9 in c:\\users\\hp\\anaconda3\\lib\\site-packages (from jupyter-server<3,>=2.4.0->jupyterlab<5.0.0a0,>=4.1.0->jupyterlab-lsp) (0.21.1)\n",
      "Requirement already satisfied: pywinpty>=2.0.1 in c:\\users\\hp\\anaconda3\\lib\\site-packages (from jupyter-server<3,>=2.4.0->jupyterlab<5.0.0a0,>=4.1.0->jupyterlab-lsp) (2.0.15)\n",
      "Requirement already satisfied: pyzmq>=24 in c:\\users\\hp\\anaconda3\\lib\\site-packages (from jupyter-server<3,>=2.4.0->jupyterlab<5.0.0a0,>=4.1.0->jupyterlab-lsp) (26.2.0)\n",
      "Requirement already satisfied: send2trash>=1.8.2 in c:\\users\\hp\\anaconda3\\lib\\site-packages (from jupyter-server<3,>=2.4.0->jupyterlab<5.0.0a0,>=4.1.0->jupyterlab-lsp) (1.8.2)\n",
      "Requirement already satisfied: terminado>=0.8.3 in c:\\users\\hp\\anaconda3\\lib\\site-packages (from jupyter-server<3,>=2.4.0->jupyterlab<5.0.0a0,>=4.1.0->jupyterlab-lsp) (0.17.1)\n",
      "Requirement already satisfied: websocket-client>=1.7 in c:\\users\\hp\\anaconda3\\lib\\site-packages (from jupyter-server<3,>=2.4.0->jupyterlab<5.0.0a0,>=4.1.0->jupyterlab-lsp) (1.8.0)\n",
      "Requirement already satisfied: babel>=2.10 in c:\\users\\hp\\anaconda3\\lib\\site-packages (from jupyterlab-server<3,>=2.27.1->jupyterlab<5.0.0a0,>=4.1.0->jupyterlab-lsp) (2.16.0)\n",
      "Requirement already satisfied: json5>=0.9.0 in c:\\users\\hp\\anaconda3\\lib\\site-packages (from jupyterlab-server<3,>=2.27.1->jupyterlab<5.0.0a0,>=4.1.0->jupyterlab-lsp) (0.9.25)\n",
      "Requirement already satisfied: jsonschema>=4.18.0 in c:\\users\\hp\\anaconda3\\lib\\site-packages (from jupyterlab-server<3,>=2.27.1->jupyterlab<5.0.0a0,>=4.1.0->jupyterlab-lsp) (4.23.0)\n",
      "Requirement already satisfied: requests>=2.31 in c:\\users\\hp\\anaconda3\\lib\\site-packages (from jupyterlab-server<3,>=2.27.1->jupyterlab<5.0.0a0,>=4.1.0->jupyterlab-lsp) (2.32.4)\n",
      "Requirement already satisfied: docstring-to-markdown in c:\\users\\hp\\anaconda3\\lib\\site-packages (from python-lsp-server) (0.11)\n",
      "Requirement already satisfied: pluggy>=1.0.0 in c:\\users\\hp\\anaconda3\\lib\\site-packages (from python-lsp-server) (1.5.0)\n",
      "Requirement already satisfied: python-lsp-jsonrpc<2.0.0,>=1.1.0 in c:\\users\\hp\\anaconda3\\lib\\site-packages (from python-lsp-server) (1.1.2)\n",
      "Requirement already satisfied: ujson>=3.0.0 in c:\\users\\hp\\anaconda3\\lib\\site-packages (from python-lsp-server) (5.10.0)\n",
      "Requirement already satisfied: parso<0.9.0,>=0.8.4 in c:\\users\\hp\\anaconda3\\lib\\site-packages (from jedi) (0.8.4)\n",
      "Requirement already satisfied: idna>=2.8 in c:\\users\\hp\\anaconda3\\lib\\site-packages (from anyio>=3.1.0->jupyter-server<3,>=2.4.0->jupyterlab<5.0.0a0,>=4.1.0->jupyterlab-lsp) (3.7)\n",
      "Requirement already satisfied: sniffio>=1.1 in c:\\users\\hp\\anaconda3\\lib\\site-packages (from anyio>=3.1.0->jupyter-server<3,>=2.4.0->jupyterlab<5.0.0a0,>=4.1.0->jupyterlab-lsp) (1.3.0)\n",
      "Requirement already satisfied: argon2-cffi-bindings in c:\\users\\hp\\anaconda3\\lib\\site-packages (from argon2-cffi>=21.1->jupyter-server<3,>=2.4.0->jupyterlab<5.0.0a0,>=4.1.0->jupyterlab-lsp) (21.2.0)\n",
      "Requirement already satisfied: certifi in c:\\users\\hp\\anaconda3\\lib\\site-packages (from httpx>=0.25.0->jupyterlab<5.0.0a0,>=4.1.0->jupyterlab-lsp) (2025.7.9)\n",
      "Requirement already satisfied: httpcore==1.* in c:\\users\\hp\\anaconda3\\lib\\site-packages (from httpx>=0.25.0->jupyterlab<5.0.0a0,>=4.1.0->jupyterlab-lsp) (1.0.9)\n",
      "Requirement already satisfied: h11>=0.16 in c:\\users\\hp\\anaconda3\\lib\\site-packages (from httpcore==1.*->httpx>=0.25.0->jupyterlab<5.0.0a0,>=4.1.0->jupyterlab-lsp) (0.16.0)\n",
      "Requirement already satisfied: comm>=0.1.1 in c:\\users\\hp\\anaconda3\\lib\\site-packages (from ipykernel>=6.5.0->jupyterlab<5.0.0a0,>=4.1.0->jupyterlab-lsp) (0.2.1)\n",
      "Requirement already satisfied: debugpy>=1.6.5 in c:\\users\\hp\\anaconda3\\lib\\site-packages (from ipykernel>=6.5.0->jupyterlab<5.0.0a0,>=4.1.0->jupyterlab-lsp) (1.8.11)\n",
      "Requirement already satisfied: ipython>=7.23.1 in c:\\users\\hp\\anaconda3\\lib\\site-packages (from ipykernel>=6.5.0->jupyterlab<5.0.0a0,>=4.1.0->jupyterlab-lsp) (8.30.0)\n",
      "Requirement already satisfied: matplotlib-inline>=0.1 in c:\\users\\hp\\anaconda3\\lib\\site-packages (from ipykernel>=6.5.0->jupyterlab<5.0.0a0,>=4.1.0->jupyterlab-lsp) (0.1.6)\n",
      "Requirement already satisfied: nest-asyncio in c:\\users\\hp\\anaconda3\\lib\\site-packages (from ipykernel>=6.5.0->jupyterlab<5.0.0a0,>=4.1.0->jupyterlab-lsp) (1.6.0)\n",
      "Requirement already satisfied: psutil in c:\\users\\hp\\anaconda3\\lib\\site-packages (from ipykernel>=6.5.0->jupyterlab<5.0.0a0,>=4.1.0->jupyterlab-lsp) (5.9.0)\n",
      "Requirement already satisfied: decorator in c:\\users\\hp\\anaconda3\\lib\\site-packages (from ipython>=7.23.1->ipykernel>=6.5.0->jupyterlab<5.0.0a0,>=4.1.0->jupyterlab-lsp) (5.1.1)\n",
      "Requirement already satisfied: prompt-toolkit<3.1.0,>=3.0.41 in c:\\users\\hp\\anaconda3\\lib\\site-packages (from ipython>=7.23.1->ipykernel>=6.5.0->jupyterlab<5.0.0a0,>=4.1.0->jupyterlab-lsp) (3.0.43)\n",
      "Requirement already satisfied: pygments>=2.4.0 in c:\\users\\hp\\anaconda3\\lib\\site-packages (from ipython>=7.23.1->ipykernel>=6.5.0->jupyterlab<5.0.0a0,>=4.1.0->jupyterlab-lsp) (2.19.1)\n",
      "Requirement already satisfied: stack-data in c:\\users\\hp\\anaconda3\\lib\\site-packages (from ipython>=7.23.1->ipykernel>=6.5.0->jupyterlab<5.0.0a0,>=4.1.0->jupyterlab-lsp) (0.2.0)\n",
      "Requirement already satisfied: colorama in c:\\users\\hp\\anaconda3\\lib\\site-packages (from ipython>=7.23.1->ipykernel>=6.5.0->jupyterlab<5.0.0a0,>=4.1.0->jupyterlab-lsp) (0.4.6)\n",
      "Requirement already satisfied: wcwidth in c:\\users\\hp\\anaconda3\\lib\\site-packages (from prompt-toolkit<3.1.0,>=3.0.41->ipython>=7.23.1->ipykernel>=6.5.0->jupyterlab<5.0.0a0,>=4.1.0->jupyterlab-lsp) (0.2.13)\n",
      "Requirement already satisfied: MarkupSafe>=2.0 in c:\\users\\hp\\anaconda3\\lib\\site-packages (from jinja2>=3.0.3->jupyterlab<5.0.0a0,>=4.1.0->jupyterlab-lsp) (3.0.2)\n",
      "Requirement already satisfied: attrs>=22.2.0 in c:\\users\\hp\\anaconda3\\lib\\site-packages (from jsonschema>=4.18.0->jupyterlab-server<3,>=2.27.1->jupyterlab<5.0.0a0,>=4.1.0->jupyterlab-lsp) (24.3.0)\n",
      "Requirement already satisfied: jsonschema-specifications>=2023.03.6 in c:\\users\\hp\\anaconda3\\lib\\site-packages (from jsonschema>=4.18.0->jupyterlab-server<3,>=2.27.1->jupyterlab<5.0.0a0,>=4.1.0->jupyterlab-lsp) (2023.7.1)\n",
      "Requirement already satisfied: referencing>=0.28.4 in c:\\users\\hp\\anaconda3\\lib\\site-packages (from jsonschema>=4.18.0->jupyterlab-server<3,>=2.27.1->jupyterlab<5.0.0a0,>=4.1.0->jupyterlab-lsp) (0.30.2)\n",
      "Requirement already satisfied: rpds-py>=0.7.1 in c:\\users\\hp\\anaconda3\\lib\\site-packages (from jsonschema>=4.18.0->jupyterlab-server<3,>=2.27.1->jupyterlab<5.0.0a0,>=4.1.0->jupyterlab-lsp) (0.22.3)\n",
      "Requirement already satisfied: python-dateutil>=2.8.2 in c:\\users\\hp\\anaconda3\\lib\\site-packages (from jupyter-client>=7.4.4->jupyter-server<3,>=2.4.0->jupyterlab<5.0.0a0,>=4.1.0->jupyterlab-lsp) (2.9.0.post0)\n",
      "Requirement already satisfied: platformdirs>=2.5 in c:\\users\\hp\\anaconda3\\lib\\site-packages (from jupyter-core->jupyterlab<5.0.0a0,>=4.1.0->jupyterlab-lsp) (4.3.7)\n",
      "Requirement already satisfied: pywin32>=300 in c:\\users\\hp\\anaconda3\\lib\\site-packages (from jupyter-core->jupyterlab<5.0.0a0,>=4.1.0->jupyterlab-lsp) (308)\n",
      "Requirement already satisfied: python-json-logger>=2.0.4 in c:\\users\\hp\\anaconda3\\lib\\site-packages (from jupyter-events>=0.11.0->jupyter-server<3,>=2.4.0->jupyterlab<5.0.0a0,>=4.1.0->jupyterlab-lsp) (3.2.1)\n",
      "Requirement already satisfied: pyyaml>=5.3 in c:\\users\\hp\\anaconda3\\lib\\site-packages (from jupyter-events>=0.11.0->jupyter-server<3,>=2.4.0->jupyterlab<5.0.0a0,>=4.1.0->jupyterlab-lsp) (6.0.2)\n",
      "Requirement already satisfied: rfc3339-validator in c:\\users\\hp\\anaconda3\\lib\\site-packages (from jupyter-events>=0.11.0->jupyter-server<3,>=2.4.0->jupyterlab<5.0.0a0,>=4.1.0->jupyterlab-lsp) (0.1.4)\n",
      "Requirement already satisfied: rfc3986-validator>=0.1.1 in c:\\users\\hp\\anaconda3\\lib\\site-packages (from jupyter-events>=0.11.0->jupyter-server<3,>=2.4.0->jupyterlab<5.0.0a0,>=4.1.0->jupyterlab-lsp) (0.1.1)\n",
      "Requirement already satisfied: fqdn in c:\\users\\hp\\anaconda3\\lib\\site-packages (from jsonschema[format-nongpl]>=4.18.0->jupyter-events>=0.11.0->jupyter-server<3,>=2.4.0->jupyterlab<5.0.0a0,>=4.1.0->jupyterlab-lsp) (1.5.1)\n",
      "Requirement already satisfied: isoduration in c:\\users\\hp\\anaconda3\\lib\\site-packages (from jsonschema[format-nongpl]>=4.18.0->jupyter-events>=0.11.0->jupyter-server<3,>=2.4.0->jupyterlab<5.0.0a0,>=4.1.0->jupyterlab-lsp) (20.11.0)\n",
      "Requirement already satisfied: jsonpointer>1.13 in c:\\users\\hp\\anaconda3\\lib\\site-packages (from jsonschema[format-nongpl]>=4.18.0->jupyter-events>=0.11.0->jupyter-server<3,>=2.4.0->jupyterlab<5.0.0a0,>=4.1.0->jupyterlab-lsp) (2.1)\n",
      "Requirement already satisfied: uri-template in c:\\users\\hp\\anaconda3\\lib\\site-packages (from jsonschema[format-nongpl]>=4.18.0->jupyter-events>=0.11.0->jupyter-server<3,>=2.4.0->jupyterlab<5.0.0a0,>=4.1.0->jupyterlab-lsp) (1.3.0)\n",
      "Requirement already satisfied: webcolors>=24.6.0 in c:\\users\\hp\\anaconda3\\lib\\site-packages (from jsonschema[format-nongpl]>=4.18.0->jupyter-events>=0.11.0->jupyter-server<3,>=2.4.0->jupyterlab<5.0.0a0,>=4.1.0->jupyterlab-lsp) (24.11.1)\n",
      "Requirement already satisfied: beautifulsoup4 in c:\\users\\hp\\anaconda3\\lib\\site-packages (from nbconvert>=6.4.4->jupyter-server<3,>=2.4.0->jupyterlab<5.0.0a0,>=4.1.0->jupyterlab-lsp) (4.12.3)\n",
      "Requirement already satisfied: bleach!=5.0.0 in c:\\users\\hp\\anaconda3\\lib\\site-packages (from bleach[css]!=5.0.0->nbconvert>=6.4.4->jupyter-server<3,>=2.4.0->jupyterlab<5.0.0a0,>=4.1.0->jupyterlab-lsp) (6.2.0)\n",
      "Requirement already satisfied: defusedxml in c:\\users\\hp\\anaconda3\\lib\\site-packages (from nbconvert>=6.4.4->jupyter-server<3,>=2.4.0->jupyterlab<5.0.0a0,>=4.1.0->jupyterlab-lsp) (0.7.1)\n",
      "Requirement already satisfied: jupyterlab-pygments in c:\\users\\hp\\anaconda3\\lib\\site-packages (from nbconvert>=6.4.4->jupyter-server<3,>=2.4.0->jupyterlab<5.0.0a0,>=4.1.0->jupyterlab-lsp) (0.3.0)\n",
      "Requirement already satisfied: mistune<4,>=2.0.3 in c:\\users\\hp\\anaconda3\\lib\\site-packages (from nbconvert>=6.4.4->jupyter-server<3,>=2.4.0->jupyterlab<5.0.0a0,>=4.1.0->jupyterlab-lsp) (3.1.2)\n",
      "Requirement already satisfied: nbclient>=0.5.0 in c:\\users\\hp\\anaconda3\\lib\\site-packages (from nbconvert>=6.4.4->jupyter-server<3,>=2.4.0->jupyterlab<5.0.0a0,>=4.1.0->jupyterlab-lsp) (0.10.2)\n",
      "Requirement already satisfied: pandocfilters>=1.4.1 in c:\\users\\hp\\anaconda3\\lib\\site-packages (from nbconvert>=6.4.4->jupyter-server<3,>=2.4.0->jupyterlab<5.0.0a0,>=4.1.0->jupyterlab-lsp) (1.5.0)\n",
      "Requirement already satisfied: webencodings in c:\\users\\hp\\anaconda3\\lib\\site-packages (from bleach!=5.0.0->bleach[css]!=5.0.0->nbconvert>=6.4.4->jupyter-server<3,>=2.4.0->jupyterlab<5.0.0a0,>=4.1.0->jupyterlab-lsp) (0.5.1)\n",
      "Requirement already satisfied: tinycss2<1.5,>=1.1.0 in c:\\users\\hp\\anaconda3\\lib\\site-packages (from bleach[css]!=5.0.0->nbconvert>=6.4.4->jupyter-server<3,>=2.4.0->jupyterlab<5.0.0a0,>=4.1.0->jupyterlab-lsp) (1.4.0)\n",
      "Requirement already satisfied: fastjsonschema>=2.15 in c:\\users\\hp\\anaconda3\\lib\\site-packages (from nbformat>=5.3.0->jupyter-server<3,>=2.4.0->jupyterlab<5.0.0a0,>=4.1.0->jupyterlab-lsp) (2.20.0)\n",
      "Requirement already satisfied: six>=1.5 in c:\\users\\hp\\anaconda3\\lib\\site-packages (from python-dateutil>=2.8.2->jupyter-client>=7.4.4->jupyter-server<3,>=2.4.0->jupyterlab<5.0.0a0,>=4.1.0->jupyterlab-lsp) (1.17.0)\n",
      "Requirement already satisfied: charset_normalizer<4,>=2 in c:\\users\\hp\\anaconda3\\lib\\site-packages (from requests>=2.31->jupyterlab-server<3,>=2.27.1->jupyterlab<5.0.0a0,>=4.1.0->jupyterlab-lsp) (3.3.2)\n",
      "Requirement already satisfied: urllib3<3,>=1.21.1 in c:\\users\\hp\\anaconda3\\lib\\site-packages (from requests>=2.31->jupyterlab-server<3,>=2.27.1->jupyterlab<5.0.0a0,>=4.1.0->jupyterlab-lsp) (2.5.0)\n",
      "Requirement already satisfied: cffi>=1.0.1 in c:\\users\\hp\\anaconda3\\lib\\site-packages (from argon2-cffi-bindings->argon2-cffi>=21.1->jupyter-server<3,>=2.4.0->jupyterlab<5.0.0a0,>=4.1.0->jupyterlab-lsp) (1.17.1)\n",
      "Requirement already satisfied: pycparser in c:\\users\\hp\\anaconda3\\lib\\site-packages (from cffi>=1.0.1->argon2-cffi-bindings->argon2-cffi>=21.1->jupyter-server<3,>=2.4.0->jupyterlab<5.0.0a0,>=4.1.0->jupyterlab-lsp) (2.21)\n",
      "Requirement already satisfied: soupsieve>1.2 in c:\\users\\hp\\anaconda3\\lib\\site-packages (from beautifulsoup4->nbconvert>=6.4.4->jupyter-server<3,>=2.4.0->jupyterlab<5.0.0a0,>=4.1.0->jupyterlab-lsp) (2.5)\n",
      "Requirement already satisfied: arrow>=0.15.0 in c:\\users\\hp\\anaconda3\\lib\\site-packages (from isoduration->jsonschema[format-nongpl]>=4.18.0->jupyter-events>=0.11.0->jupyter-server<3,>=2.4.0->jupyterlab<5.0.0a0,>=4.1.0->jupyterlab-lsp) (1.3.0)\n",
      "Requirement already satisfied: executing in c:\\users\\hp\\anaconda3\\lib\\site-packages (from stack-data->ipython>=7.23.1->ipykernel>=6.5.0->jupyterlab<5.0.0a0,>=4.1.0->jupyterlab-lsp) (0.8.3)\n",
      "Requirement already satisfied: asttokens in c:\\users\\hp\\anaconda3\\lib\\site-packages (from stack-data->ipython>=7.23.1->ipykernel>=6.5.0->jupyterlab<5.0.0a0,>=4.1.0->jupyterlab-lsp) (3.0.0)\n",
      "Requirement already satisfied: pure-eval in c:\\users\\hp\\anaconda3\\lib\\site-packages (from stack-data->ipython>=7.23.1->ipykernel>=6.5.0->jupyterlab<5.0.0a0,>=4.1.0->jupyterlab-lsp) (0.2.2)\n"
     ]
    }
   ],
   "source": [
    "!pip install jupyterlab-lsp python-lsp-server jedi"
   ]
  },
  {
   "cell_type": "code",
   "execution_count": 1,
   "metadata": {},
   "outputs": [
    {
     "name": "stdout",
     "output_type": "stream",
     "text": [
      "Collecting jupyterlab-code-formatter\n",
      "  Downloading jupyterlab_code_formatter-3.0.2-py3-none-any.whl.metadata (6.0 kB)\n",
      "Requirement already satisfied: black in c:\\users\\hp\\anaconda3\\lib\\site-packages (25.1.0)\n",
      "Requirement already satisfied: isort in c:\\users\\hp\\anaconda3\\lib\\site-packages (6.0.1)\n",
      "Requirement already satisfied: jupyter-server<3,>=1.21 in c:\\users\\hp\\anaconda3\\lib\\site-packages (from jupyterlab-code-formatter) (2.16.0)\n",
      "Requirement already satisfied: packaging in c:\\users\\hp\\anaconda3\\lib\\site-packages (from jupyterlab-code-formatter) (24.2)\n",
      "Requirement already satisfied: anyio>=3.1.0 in c:\\users\\hp\\anaconda3\\lib\\site-packages (from jupyter-server<3,>=1.21->jupyterlab-code-formatter) (4.7.0)\n",
      "Requirement already satisfied: argon2-cffi>=21.1 in c:\\users\\hp\\anaconda3\\lib\\site-packages (from jupyter-server<3,>=1.21->jupyterlab-code-formatter) (21.3.0)\n",
      "Requirement already satisfied: jinja2>=3.0.3 in c:\\users\\hp\\anaconda3\\lib\\site-packages (from jupyter-server<3,>=1.21->jupyterlab-code-formatter) (3.1.6)\n",
      "Requirement already satisfied: jupyter-client>=7.4.4 in c:\\users\\hp\\anaconda3\\lib\\site-packages (from jupyter-server<3,>=1.21->jupyterlab-code-formatter) (8.6.3)\n",
      "Requirement already satisfied: jupyter-core!=5.0.*,>=4.12 in c:\\users\\hp\\anaconda3\\lib\\site-packages (from jupyter-server<3,>=1.21->jupyterlab-code-formatter) (5.8.1)\n",
      "Requirement already satisfied: jupyter-events>=0.11.0 in c:\\users\\hp\\anaconda3\\lib\\site-packages (from jupyter-server<3,>=1.21->jupyterlab-code-formatter) (0.12.0)\n",
      "Requirement already satisfied: jupyter-server-terminals>=0.4.4 in c:\\users\\hp\\anaconda3\\lib\\site-packages (from jupyter-server<3,>=1.21->jupyterlab-code-formatter) (0.5.3)\n",
      "Requirement already satisfied: nbconvert>=6.4.4 in c:\\users\\hp\\anaconda3\\lib\\site-packages (from jupyter-server<3,>=1.21->jupyterlab-code-formatter) (7.16.6)\n",
      "Requirement already satisfied: nbformat>=5.3.0 in c:\\users\\hp\\anaconda3\\lib\\site-packages (from jupyter-server<3,>=1.21->jupyterlab-code-formatter) (5.10.4)\n",
      "Requirement already satisfied: overrides>=5.0 in c:\\users\\hp\\anaconda3\\lib\\site-packages (from jupyter-server<3,>=1.21->jupyterlab-code-formatter) (7.4.0)\n",
      "Requirement already satisfied: prometheus-client>=0.9 in c:\\users\\hp\\anaconda3\\lib\\site-packages (from jupyter-server<3,>=1.21->jupyterlab-code-formatter) (0.21.1)\n",
      "Requirement already satisfied: pywinpty>=2.0.1 in c:\\users\\hp\\anaconda3\\lib\\site-packages (from jupyter-server<3,>=1.21->jupyterlab-code-formatter) (2.0.15)\n",
      "Requirement already satisfied: pyzmq>=24 in c:\\users\\hp\\anaconda3\\lib\\site-packages (from jupyter-server<3,>=1.21->jupyterlab-code-formatter) (26.2.0)\n",
      "Requirement already satisfied: send2trash>=1.8.2 in c:\\users\\hp\\anaconda3\\lib\\site-packages (from jupyter-server<3,>=1.21->jupyterlab-code-formatter) (1.8.2)\n",
      "Requirement already satisfied: terminado>=0.8.3 in c:\\users\\hp\\anaconda3\\lib\\site-packages (from jupyter-server<3,>=1.21->jupyterlab-code-formatter) (0.17.1)\n",
      "Requirement already satisfied: tornado>=6.2.0 in c:\\users\\hp\\anaconda3\\lib\\site-packages (from jupyter-server<3,>=1.21->jupyterlab-code-formatter) (6.5.1)\n",
      "Requirement already satisfied: traitlets>=5.6.0 in c:\\users\\hp\\anaconda3\\lib\\site-packages (from jupyter-server<3,>=1.21->jupyterlab-code-formatter) (5.14.3)\n",
      "Requirement already satisfied: websocket-client>=1.7 in c:\\users\\hp\\anaconda3\\lib\\site-packages (from jupyter-server<3,>=1.21->jupyterlab-code-formatter) (1.8.0)\n",
      "Requirement already satisfied: click>=8.0.0 in c:\\users\\hp\\anaconda3\\lib\\site-packages (from black) (8.1.8)\n",
      "Requirement already satisfied: mypy-extensions>=0.4.3 in c:\\users\\hp\\anaconda3\\lib\\site-packages (from black) (1.0.0)\n",
      "Requirement already satisfied: pathspec>=0.9.0 in c:\\users\\hp\\anaconda3\\lib\\site-packages (from black) (0.10.3)\n",
      "Requirement already satisfied: platformdirs>=2 in c:\\users\\hp\\anaconda3\\lib\\site-packages (from black) (4.3.7)\n",
      "Requirement already satisfied: idna>=2.8 in c:\\users\\hp\\anaconda3\\lib\\site-packages (from anyio>=3.1.0->jupyter-server<3,>=1.21->jupyterlab-code-formatter) (3.7)\n",
      "Requirement already satisfied: sniffio>=1.1 in c:\\users\\hp\\anaconda3\\lib\\site-packages (from anyio>=3.1.0->jupyter-server<3,>=1.21->jupyterlab-code-formatter) (1.3.0)\n",
      "Requirement already satisfied: argon2-cffi-bindings in c:\\users\\hp\\anaconda3\\lib\\site-packages (from argon2-cffi>=21.1->jupyter-server<3,>=1.21->jupyterlab-code-formatter) (21.2.0)\n",
      "Requirement already satisfied: colorama in c:\\users\\hp\\anaconda3\\lib\\site-packages (from click>=8.0.0->black) (0.4.6)\n",
      "Requirement already satisfied: MarkupSafe>=2.0 in c:\\users\\hp\\anaconda3\\lib\\site-packages (from jinja2>=3.0.3->jupyter-server<3,>=1.21->jupyterlab-code-formatter) (3.0.2)\n",
      "Requirement already satisfied: python-dateutil>=2.8.2 in c:\\users\\hp\\anaconda3\\lib\\site-packages (from jupyter-client>=7.4.4->jupyter-server<3,>=1.21->jupyterlab-code-formatter) (2.9.0.post0)\n",
      "Requirement already satisfied: pywin32>=300 in c:\\users\\hp\\anaconda3\\lib\\site-packages (from jupyter-core!=5.0.*,>=4.12->jupyter-server<3,>=1.21->jupyterlab-code-formatter) (308)\n",
      "Requirement already satisfied: jsonschema>=4.18.0 in c:\\users\\hp\\anaconda3\\lib\\site-packages (from jsonschema[format-nongpl]>=4.18.0->jupyter-events>=0.11.0->jupyter-server<3,>=1.21->jupyterlab-code-formatter) (4.23.0)\n",
      "Requirement already satisfied: python-json-logger>=2.0.4 in c:\\users\\hp\\anaconda3\\lib\\site-packages (from jupyter-events>=0.11.0->jupyter-server<3,>=1.21->jupyterlab-code-formatter) (3.2.1)\n",
      "Requirement already satisfied: pyyaml>=5.3 in c:\\users\\hp\\anaconda3\\lib\\site-packages (from jupyter-events>=0.11.0->jupyter-server<3,>=1.21->jupyterlab-code-formatter) (6.0.2)\n",
      "Requirement already satisfied: referencing in c:\\users\\hp\\anaconda3\\lib\\site-packages (from jupyter-events>=0.11.0->jupyter-server<3,>=1.21->jupyterlab-code-formatter) (0.30.2)\n",
      "Requirement already satisfied: rfc3339-validator in c:\\users\\hp\\anaconda3\\lib\\site-packages (from jupyter-events>=0.11.0->jupyter-server<3,>=1.21->jupyterlab-code-formatter) (0.1.4)\n",
      "Requirement already satisfied: rfc3986-validator>=0.1.1 in c:\\users\\hp\\anaconda3\\lib\\site-packages (from jupyter-events>=0.11.0->jupyter-server<3,>=1.21->jupyterlab-code-formatter) (0.1.1)\n",
      "Requirement already satisfied: attrs>=22.2.0 in c:\\users\\hp\\anaconda3\\lib\\site-packages (from jsonschema>=4.18.0->jsonschema[format-nongpl]>=4.18.0->jupyter-events>=0.11.0->jupyter-server<3,>=1.21->jupyterlab-code-formatter) (24.3.0)\n",
      "Requirement already satisfied: jsonschema-specifications>=2023.03.6 in c:\\users\\hp\\anaconda3\\lib\\site-packages (from jsonschema>=4.18.0->jsonschema[format-nongpl]>=4.18.0->jupyter-events>=0.11.0->jupyter-server<3,>=1.21->jupyterlab-code-formatter) (2023.7.1)\n",
      "Requirement already satisfied: rpds-py>=0.7.1 in c:\\users\\hp\\anaconda3\\lib\\site-packages (from jsonschema>=4.18.0->jsonschema[format-nongpl]>=4.18.0->jupyter-events>=0.11.0->jupyter-server<3,>=1.21->jupyterlab-code-formatter) (0.22.3)\n",
      "Requirement already satisfied: fqdn in c:\\users\\hp\\anaconda3\\lib\\site-packages (from jsonschema[format-nongpl]>=4.18.0->jupyter-events>=0.11.0->jupyter-server<3,>=1.21->jupyterlab-code-formatter) (1.5.1)\n",
      "Requirement already satisfied: isoduration in c:\\users\\hp\\anaconda3\\lib\\site-packages (from jsonschema[format-nongpl]>=4.18.0->jupyter-events>=0.11.0->jupyter-server<3,>=1.21->jupyterlab-code-formatter) (20.11.0)\n",
      "Requirement already satisfied: jsonpointer>1.13 in c:\\users\\hp\\anaconda3\\lib\\site-packages (from jsonschema[format-nongpl]>=4.18.0->jupyter-events>=0.11.0->jupyter-server<3,>=1.21->jupyterlab-code-formatter) (2.1)\n",
      "Requirement already satisfied: uri-template in c:\\users\\hp\\anaconda3\\lib\\site-packages (from jsonschema[format-nongpl]>=4.18.0->jupyter-events>=0.11.0->jupyter-server<3,>=1.21->jupyterlab-code-formatter) (1.3.0)\n",
      "Requirement already satisfied: webcolors>=24.6.0 in c:\\users\\hp\\anaconda3\\lib\\site-packages (from jsonschema[format-nongpl]>=4.18.0->jupyter-events>=0.11.0->jupyter-server<3,>=1.21->jupyterlab-code-formatter) (24.11.1)\n",
      "Requirement already satisfied: beautifulsoup4 in c:\\users\\hp\\anaconda3\\lib\\site-packages (from nbconvert>=6.4.4->jupyter-server<3,>=1.21->jupyterlab-code-formatter) (4.12.3)\n",
      "Requirement already satisfied: bleach!=5.0.0 in c:\\users\\hp\\anaconda3\\lib\\site-packages (from bleach[css]!=5.0.0->nbconvert>=6.4.4->jupyter-server<3,>=1.21->jupyterlab-code-formatter) (6.2.0)\n",
      "Requirement already satisfied: defusedxml in c:\\users\\hp\\anaconda3\\lib\\site-packages (from nbconvert>=6.4.4->jupyter-server<3,>=1.21->jupyterlab-code-formatter) (0.7.1)\n",
      "Requirement already satisfied: jupyterlab-pygments in c:\\users\\hp\\anaconda3\\lib\\site-packages (from nbconvert>=6.4.4->jupyter-server<3,>=1.21->jupyterlab-code-formatter) (0.3.0)\n",
      "Requirement already satisfied: mistune<4,>=2.0.3 in c:\\users\\hp\\anaconda3\\lib\\site-packages (from nbconvert>=6.4.4->jupyter-server<3,>=1.21->jupyterlab-code-formatter) (3.1.2)\n",
      "Requirement already satisfied: nbclient>=0.5.0 in c:\\users\\hp\\anaconda3\\lib\\site-packages (from nbconvert>=6.4.4->jupyter-server<3,>=1.21->jupyterlab-code-formatter) (0.10.2)\n",
      "Requirement already satisfied: pandocfilters>=1.4.1 in c:\\users\\hp\\anaconda3\\lib\\site-packages (from nbconvert>=6.4.4->jupyter-server<3,>=1.21->jupyterlab-code-formatter) (1.5.0)\n",
      "Requirement already satisfied: pygments>=2.4.1 in c:\\users\\hp\\anaconda3\\lib\\site-packages (from nbconvert>=6.4.4->jupyter-server<3,>=1.21->jupyterlab-code-formatter) (2.19.1)\n",
      "Requirement already satisfied: webencodings in c:\\users\\hp\\anaconda3\\lib\\site-packages (from bleach!=5.0.0->bleach[css]!=5.0.0->nbconvert>=6.4.4->jupyter-server<3,>=1.21->jupyterlab-code-formatter) (0.5.1)\n",
      "Requirement already satisfied: tinycss2<1.5,>=1.1.0 in c:\\users\\hp\\anaconda3\\lib\\site-packages (from bleach[css]!=5.0.0->nbconvert>=6.4.4->jupyter-server<3,>=1.21->jupyterlab-code-formatter) (1.4.0)\n",
      "Requirement already satisfied: fastjsonschema>=2.15 in c:\\users\\hp\\anaconda3\\lib\\site-packages (from nbformat>=5.3.0->jupyter-server<3,>=1.21->jupyterlab-code-formatter) (2.20.0)\n",
      "Requirement already satisfied: six>=1.5 in c:\\users\\hp\\anaconda3\\lib\\site-packages (from python-dateutil>=2.8.2->jupyter-client>=7.4.4->jupyter-server<3,>=1.21->jupyterlab-code-formatter) (1.17.0)\n",
      "Requirement already satisfied: cffi>=1.0.1 in c:\\users\\hp\\anaconda3\\lib\\site-packages (from argon2-cffi-bindings->argon2-cffi>=21.1->jupyter-server<3,>=1.21->jupyterlab-code-formatter) (1.17.1)\n",
      "Requirement already satisfied: pycparser in c:\\users\\hp\\anaconda3\\lib\\site-packages (from cffi>=1.0.1->argon2-cffi-bindings->argon2-cffi>=21.1->jupyter-server<3,>=1.21->jupyterlab-code-formatter) (2.21)\n",
      "Requirement already satisfied: soupsieve>1.2 in c:\\users\\hp\\anaconda3\\lib\\site-packages (from beautifulsoup4->nbconvert>=6.4.4->jupyter-server<3,>=1.21->jupyterlab-code-formatter) (2.5)\n",
      "Requirement already satisfied: arrow>=0.15.0 in c:\\users\\hp\\anaconda3\\lib\\site-packages (from isoduration->jsonschema[format-nongpl]>=4.18.0->jupyter-events>=0.11.0->jupyter-server<3,>=1.21->jupyterlab-code-formatter) (1.3.0)\n",
      "Downloading jupyterlab_code_formatter-3.0.2-py3-none-any.whl (33 kB)\n",
      "Installing collected packages: jupyterlab-code-formatter\n",
      "Successfully installed jupyterlab-code-formatter-3.0.2\n"
     ]
    }
   ],
   "source": [
    "!pip install jupyterlab-code-formatter black isort"
   ]
  },
  {
   "cell_type": "code",
   "execution_count": 1,
   "metadata": {
    "id": "M8Vqi-pPk-HR"
   },
   "outputs": [],
   "source": [
    "# Import Libraries\n",
    "import pandas as pd\n",
    "import numpy as np\n",
    "import matplotlib.pyplot as plt\n",
    "import seaborn as sns\n",
    "# Install these packages to enhance JupyterLab's autocomplete capabilities\n",
    "# !pip install jupyterlab-lsp python-lsp-server jedi\n",
    "# !pip install jupyterlab-code-formatter black isort\n",
    "# Restart JupyterLab after installation"
   ]
  },
  {
   "cell_type": "markdown",
   "metadata": {
    "id": "3RnN4peoiCZX"
   },
   "source": [
    "### Dataset Loading"
   ]
  },
  {
   "cell_type": "code",
   "execution_count": 3,
   "metadata": {
    "id": "4CkvbW_SlZ_R"
   },
   "outputs": [],
   "source": [
    "# Load Dataset\n",
    "df = pd.read_csv(\"Copy of sgemm_product.csv\")"
   ]
  },
  {
   "cell_type": "markdown",
   "metadata": {
    "id": "x71ZqKXriCWQ"
   },
   "source": [
    "### Dataset First View"
   ]
  },
  {
   "cell_type": "code",
   "execution_count": 42,
   "metadata": {
    "id": "LWNFOSvLl09H"
   },
   "outputs": [
    {
     "data": {
      "text/html": [
       "<div>\n",
       "<style scoped>\n",
       "    .dataframe tbody tr th:only-of-type {\n",
       "        vertical-align: middle;\n",
       "    }\n",
       "\n",
       "    .dataframe tbody tr th {\n",
       "        vertical-align: top;\n",
       "    }\n",
       "\n",
       "    .dataframe thead th {\n",
       "        text-align: right;\n",
       "    }\n",
       "</style>\n",
       "<table border=\"1\" class=\"dataframe\">\n",
       "  <thead>\n",
       "    <tr style=\"text-align: right;\">\n",
       "      <th></th>\n",
       "      <th>M-dimension Work-Group</th>\n",
       "      <th>N-dimension Work-Group</th>\n",
       "      <th>K-dimension Work-Group</th>\n",
       "      <th>M-dimension Inner-Most Major Block (C)</th>\n",
       "      <th>N-dimension Inner-Most Major Block (C)</th>\n",
       "      <th>M-dimension Inner-Most Major Block (A)</th>\n",
       "      <th>N-dimension Inner-Most Major Block (B)</th>\n",
       "      <th>K-dimension Work-Item</th>\n",
       "      <th>Vector Width M</th>\n",
       "      <th>Vector Width N</th>\n",
       "      <th>Stride M</th>\n",
       "      <th>Stride N</th>\n",
       "      <th>Stride A</th>\n",
       "      <th>Stride B</th>\n",
       "      <th>Run 1 (milliseconds)</th>\n",
       "      <th>Run 2 (milliseconds)</th>\n",
       "      <th>Run 3 (milliseconds)</th>\n",
       "      <th>Run 4 (milliseconds)</th>\n",
       "      <th>Average Run Time (ms)</th>\n",
       "      <th>Average Run Time Category</th>\n",
       "    </tr>\n",
       "  </thead>\n",
       "  <tbody>\n",
       "    <tr>\n",
       "      <th>0</th>\n",
       "      <td>16</td>\n",
       "      <td>16</td>\n",
       "      <td>16</td>\n",
       "      <td>8</td>\n",
       "      <td>8</td>\n",
       "      <td>8</td>\n",
       "      <td>8</td>\n",
       "      <td>2</td>\n",
       "      <td>1</td>\n",
       "      <td>1</td>\n",
       "      <td>0</td>\n",
       "      <td>0</td>\n",
       "      <td>0</td>\n",
       "      <td>0</td>\n",
       "      <td>115.26</td>\n",
       "      <td>115.87</td>\n",
       "      <td>118.55</td>\n",
       "      <td>115.80</td>\n",
       "      <td>116.3700</td>\n",
       "      <td>11</td>\n",
       "    </tr>\n",
       "    <tr>\n",
       "      <th>1</th>\n",
       "      <td>16</td>\n",
       "      <td>16</td>\n",
       "      <td>16</td>\n",
       "      <td>8</td>\n",
       "      <td>8</td>\n",
       "      <td>8</td>\n",
       "      <td>8</td>\n",
       "      <td>2</td>\n",
       "      <td>1</td>\n",
       "      <td>1</td>\n",
       "      <td>0</td>\n",
       "      <td>0</td>\n",
       "      <td>0</td>\n",
       "      <td>1</td>\n",
       "      <td>78.13</td>\n",
       "      <td>78.25</td>\n",
       "      <td>79.25</td>\n",
       "      <td>79.19</td>\n",
       "      <td>78.7050</td>\n",
       "      <td>10</td>\n",
       "    </tr>\n",
       "    <tr>\n",
       "      <th>2</th>\n",
       "      <td>16</td>\n",
       "      <td>16</td>\n",
       "      <td>16</td>\n",
       "      <td>8</td>\n",
       "      <td>8</td>\n",
       "      <td>8</td>\n",
       "      <td>8</td>\n",
       "      <td>2</td>\n",
       "      <td>1</td>\n",
       "      <td>1</td>\n",
       "      <td>0</td>\n",
       "      <td>0</td>\n",
       "      <td>1</td>\n",
       "      <td>0</td>\n",
       "      <td>79.84</td>\n",
       "      <td>80.69</td>\n",
       "      <td>80.76</td>\n",
       "      <td>80.97</td>\n",
       "      <td>80.5650</td>\n",
       "      <td>11</td>\n",
       "    </tr>\n",
       "    <tr>\n",
       "      <th>3</th>\n",
       "      <td>16</td>\n",
       "      <td>16</td>\n",
       "      <td>16</td>\n",
       "      <td>8</td>\n",
       "      <td>8</td>\n",
       "      <td>8</td>\n",
       "      <td>8</td>\n",
       "      <td>2</td>\n",
       "      <td>1</td>\n",
       "      <td>1</td>\n",
       "      <td>0</td>\n",
       "      <td>0</td>\n",
       "      <td>1</td>\n",
       "      <td>1</td>\n",
       "      <td>84.32</td>\n",
       "      <td>89.90</td>\n",
       "      <td>86.75</td>\n",
       "      <td>85.58</td>\n",
       "      <td>86.6375</td>\n",
       "      <td>11</td>\n",
       "    </tr>\n",
       "    <tr>\n",
       "      <th>4</th>\n",
       "      <td>16</td>\n",
       "      <td>16</td>\n",
       "      <td>16</td>\n",
       "      <td>8</td>\n",
       "      <td>8</td>\n",
       "      <td>8</td>\n",
       "      <td>8</td>\n",
       "      <td>2</td>\n",
       "      <td>1</td>\n",
       "      <td>1</td>\n",
       "      <td>0</td>\n",
       "      <td>1</td>\n",
       "      <td>0</td>\n",
       "      <td>0</td>\n",
       "      <td>115.13</td>\n",
       "      <td>121.98</td>\n",
       "      <td>122.73</td>\n",
       "      <td>114.81</td>\n",
       "      <td>118.6625</td>\n",
       "      <td>11</td>\n",
       "    </tr>\n",
       "  </tbody>\n",
       "</table>\n",
       "</div>"
      ],
      "text/plain": [
       "   M-dimension Work-Group  N-dimension Work-Group  K-dimension Work-Group  \\\n",
       "0                      16                      16                      16   \n",
       "1                      16                      16                      16   \n",
       "2                      16                      16                      16   \n",
       "3                      16                      16                      16   \n",
       "4                      16                      16                      16   \n",
       "\n",
       "   M-dimension Inner-Most Major Block (C)  \\\n",
       "0                                       8   \n",
       "1                                       8   \n",
       "2                                       8   \n",
       "3                                       8   \n",
       "4                                       8   \n",
       "\n",
       "   N-dimension Inner-Most Major Block (C)  \\\n",
       "0                                       8   \n",
       "1                                       8   \n",
       "2                                       8   \n",
       "3                                       8   \n",
       "4                                       8   \n",
       "\n",
       "   M-dimension Inner-Most Major Block (A)  \\\n",
       "0                                       8   \n",
       "1                                       8   \n",
       "2                                       8   \n",
       "3                                       8   \n",
       "4                                       8   \n",
       "\n",
       "   N-dimension Inner-Most Major Block (B)  K-dimension Work-Item  \\\n",
       "0                                       8                      2   \n",
       "1                                       8                      2   \n",
       "2                                       8                      2   \n",
       "3                                       8                      2   \n",
       "4                                       8                      2   \n",
       "\n",
       "   Vector Width M  Vector Width N  Stride M  Stride N  Stride A  Stride B  \\\n",
       "0               1               1         0         0         0         0   \n",
       "1               1               1         0         0         0         1   \n",
       "2               1               1         0         0         1         0   \n",
       "3               1               1         0         0         1         1   \n",
       "4               1               1         0         1         0         0   \n",
       "\n",
       "   Run 1 (milliseconds)  Run 2 (milliseconds)  Run 3 (milliseconds)  \\\n",
       "0                115.26                115.87                118.55   \n",
       "1                 78.13                 78.25                 79.25   \n",
       "2                 79.84                 80.69                 80.76   \n",
       "3                 84.32                 89.90                 86.75   \n",
       "4                115.13                121.98                122.73   \n",
       "\n",
       "   Run 4 (milliseconds)  Average Run Time (ms)  Average Run Time Category  \n",
       "0                115.80               116.3700                         11  \n",
       "1                 79.19                78.7050                         10  \n",
       "2                 80.97                80.5650                         11  \n",
       "3                 85.58                86.6375                         11  \n",
       "4                114.81               118.6625                         11  "
      ]
     },
     "execution_count": 42,
     "metadata": {},
     "output_type": "execute_result"
    }
   ],
   "source": [
    "# Dataset First Look\n",
    "df.head()"
   ]
  },
  {
   "cell_type": "markdown",
   "metadata": {
    "id": "7hBIi_osiCS2"
   },
   "source": [
    "### Dataset Rows & Columns count"
   ]
  },
  {
   "cell_type": "code",
   "execution_count": 41,
   "metadata": {
    "id": "Kllu7SJgmLij"
   },
   "outputs": [
    {
     "data": {
      "text/plain": [
       "(241600, 20)"
      ]
     },
     "execution_count": 41,
     "metadata": {},
     "output_type": "execute_result"
    }
   ],
   "source": [
    "# Dataset Rows & Columns count\n",
    "df.shape"
   ]
  },
  {
   "cell_type": "markdown",
   "metadata": {
    "id": "JlHwYmJAmNHm"
   },
   "source": [
    "### Dataset Information"
   ]
  },
  {
   "cell_type": "code",
   "execution_count": 40,
   "metadata": {
    "id": "e9hRXRi6meOf"
   },
   "outputs": [
    {
     "name": "stdout",
     "output_type": "stream",
     "text": [
      "<class 'pandas.core.frame.DataFrame'>\n",
      "RangeIndex: 241600 entries, 0 to 241599\n",
      "Data columns (total 20 columns):\n",
      " #   Column                                  Non-Null Count   Dtype  \n",
      "---  ------                                  --------------   -----  \n",
      " 0   M-dimension Work-Group                  241600 non-null  int64  \n",
      " 1   N-dimension Work-Group                  241600 non-null  int64  \n",
      " 2   K-dimension Work-Group                  241600 non-null  int64  \n",
      " 3   M-dimension Inner-Most Major Block (C)  241600 non-null  int64  \n",
      " 4   N-dimension Inner-Most Major Block (C)  241600 non-null  int64  \n",
      " 5   M-dimension Inner-Most Major Block (A)  241600 non-null  int64  \n",
      " 6   N-dimension Inner-Most Major Block (B)  241600 non-null  int64  \n",
      " 7   K-dimension Work-Item                   241600 non-null  int64  \n",
      " 8   Vector Width M                          241600 non-null  int64  \n",
      " 9   Vector Width N                          241600 non-null  int64  \n",
      " 10  Stride M                                241600 non-null  int64  \n",
      " 11  Stride N                                241600 non-null  int64  \n",
      " 12  Stride A                                241600 non-null  int64  \n",
      " 13  Stride B                                241600 non-null  int64  \n",
      " 14  Run 1 (milliseconds)                    241600 non-null  float64\n",
      " 15  Run 2 (milliseconds)                    241600 non-null  float64\n",
      " 16  Run 3 (milliseconds)                    241600 non-null  float64\n",
      " 17  Run 4 (milliseconds)                    241600 non-null  float64\n",
      " 18  Average Run Time (ms)                   241600 non-null  float64\n",
      " 19  Average Run Time Category               241600 non-null  int64  \n",
      "dtypes: float64(5), int64(15)\n",
      "memory usage: 36.9 MB\n"
     ]
    }
   ],
   "source": [
    "# Dataset Info\n",
    "df.info()"
   ]
  },
  {
   "cell_type": "markdown",
   "metadata": {
    "id": "35m5QtbWiB9F"
   },
   "source": [
    "#### Duplicate Values"
   ]
  },
  {
   "cell_type": "code",
   "execution_count": 38,
   "metadata": {
    "id": "1sLdpKYkmox0"
   },
   "outputs": [
    {
     "data": {
      "text/plain": [
       "np.int64(0)"
      ]
     },
     "execution_count": 38,
     "metadata": {},
     "output_type": "execute_result"
    }
   ],
   "source": [
    "# Dataset Duplicate Value Count\n",
    "df.duplicated().sum()"
   ]
  },
  {
   "cell_type": "markdown",
   "metadata": {
    "id": "PoPl-ycgm1ru"
   },
   "source": [
    "#### Missing Values/Null Values"
   ]
  },
  {
   "cell_type": "code",
   "execution_count": 39,
   "metadata": {
    "id": "GgHWkxvamxVg"
   },
   "outputs": [
    {
     "data": {
      "text/plain": [
       "M-dimension Work-Group                    0\n",
       "N-dimension Work-Group                    0\n",
       "K-dimension Work-Group                    0\n",
       "M-dimension Inner-Most Major Block (C)    0\n",
       "N-dimension Inner-Most Major Block (C)    0\n",
       "M-dimension Inner-Most Major Block (A)    0\n",
       "N-dimension Inner-Most Major Block (B)    0\n",
       "K-dimension Work-Item                     0\n",
       "Vector Width M                            0\n",
       "Vector Width N                            0\n",
       "Stride M                                  0\n",
       "Stride N                                  0\n",
       "Stride A                                  0\n",
       "Stride B                                  0\n",
       "Run 1 (milliseconds)                      0\n",
       "Run 2 (milliseconds)                      0\n",
       "Run 3 (milliseconds)                      0\n",
       "Run 4 (milliseconds)                      0\n",
       "Average Run Time (ms)                     0\n",
       "Average Run Time Category                 0\n",
       "dtype: int64"
      ]
     },
     "execution_count": 39,
     "metadata": {},
     "output_type": "execute_result"
    }
   ],
   "source": [
    "# Missing Values/Null Values Count\n",
    "df.isnull().sum()"
   ]
  },
  {
   "cell_type": "code",
   "execution_count": 43,
   "metadata": {
    "id": "3q5wnI3om9sJ"
   },
   "outputs": [
    {
     "data": {
      "text/plain": [
       "<Axes: >"
      ]
     },
     "execution_count": 43,
     "metadata": {},
     "output_type": "execute_result"
    },
    {
     "data": {
      "image/png": "[encoded data removed]",
      "text/plain": [
       "<Figure size 640x480 with 1 Axes>"
      ]
     },
     "metadata": {},
     "output_type": "display_data"
    }
   ],
   "source": [
    "# Visualizing the missing values\n",
    "sns.heatmap(df.isnull(),cbar=False)"
   ]
  },
  {
   "cell_type": "markdown",
   "metadata": {
    "id": "H0kj-8xxnORC"
   },
   "source": [
    "### What did you know about your dataset?"
   ]
  },
  {
   "cell_type": "markdown",
   "metadata": {
    "id": "gfoNAAC-nUe_"
   },
   "source": [
    "There are no null values"
   ]
  },
  {
   "cell_type": "markdown",
   "metadata": {
    "id": "nA9Y7ga8ng1Z"
   },
   "source": [
    "## ***2. Understanding Your Variables***"
   ]
  },
  {
   "cell_type": "code",
   "execution_count": 44,
   "metadata": {
    "id": "j7xfkqrt5Ag5"
   },
   "outputs": [
    {
     "data": {
      "text/plain": [
       "Index(['M-dimension Work-Group', 'N-dimension Work-Group',\n",
       "       'K-dimension Work-Group', 'M-dimension Inner-Most Major Block (C)',\n",
       "       'N-dimension Inner-Most Major Block (C)',\n",
       "       'M-dimension Inner-Most Major Block (A)',\n",
       "       'N-dimension Inner-Most Major Block (B)', 'K-dimension Work-Item',\n",
       "       'Vector Width M', 'Vector Width N', 'Stride M', 'Stride N', 'Stride A',\n",
       "       'Stride B', 'Run 1 (milliseconds)', 'Run 2 (milliseconds)',\n",
       "       'Run 3 (milliseconds)', 'Run 4 (milliseconds)', 'Average Run Time (ms)',\n",
       "       'Average Run Time Category'],\n",
       "      dtype='object')"
      ]
     },
     "execution_count": 44,
     "metadata": {},
     "output_type": "execute_result"
    }
   ],
   "source": [
    "# Dataset Columns\n",
    "df.columns"
   ]
  },
  {
   "cell_type": "code",
   "execution_count": 19,
   "metadata": {
    "id": "DnOaZdaE5Q5t"
   },
   "outputs": [
    {
     "data": {
      "text/html": [
       "<div>\n",
       "<style scoped>\n",
       "    .dataframe tbody tr th:only-of-type {\n",
       "        vertical-align: middle;\n",
       "    }\n",
       "\n",
       "    .dataframe tbody tr th {\n",
       "        vertical-align: top;\n",
       "    }\n",
       "\n",
       "    .dataframe thead th {\n",
       "        text-align: right;\n",
       "    }\n",
       "</style>\n",
       "<table border=\"1\" class=\"dataframe\">\n",
       "  <thead>\n",
       "    <tr style=\"text-align: right;\">\n",
       "      <th></th>\n",
       "      <th>M-dimension Work-Group</th>\n",
       "      <th>N-dimension Work-Group</th>\n",
       "      <th>K-dimension Work-Group</th>\n",
       "      <th>M-dimension Inner-Most Major Block (C)</th>\n",
       "      <th>N-dimension Inner-Most Major Block (C)</th>\n",
       "      <th>M-dimension Inner-Most Major Block (A)</th>\n",
       "      <th>N-dimension Inner-Most Major Block (B)</th>\n",
       "      <th>K-dimension Work-Item</th>\n",
       "      <th>Vector Width M</th>\n",
       "      <th>Vector Width N</th>\n",
       "      <th>Stride M</th>\n",
       "      <th>Stride N</th>\n",
       "      <th>Stride A</th>\n",
       "      <th>Stride B</th>\n",
       "      <th>Run 1 (milliseconds)</th>\n",
       "      <th>Run 2 (milliseconds)</th>\n",
       "      <th>Run 3 (milliseconds)</th>\n",
       "      <th>Run 4 (milliseconds)</th>\n",
       "    </tr>\n",
       "  </thead>\n",
       "  <tbody>\n",
       "    <tr>\n",
       "      <th>count</th>\n",
       "      <td>241600.000000</td>\n",
       "      <td>241600.000000</td>\n",
       "      <td>241600.000000</td>\n",
       "      <td>241600.000000</td>\n",
       "      <td>241600.000000</td>\n",
       "      <td>241600.000000</td>\n",
       "      <td>241600.000000</td>\n",
       "      <td>241600.000000</td>\n",
       "      <td>241600.000000</td>\n",
       "      <td>241600.000000</td>\n",
       "      <td>241600.000000</td>\n",
       "      <td>241600.000000</td>\n",
       "      <td>241600.000000</td>\n",
       "      <td>241600.000000</td>\n",
       "      <td>241600.000000</td>\n",
       "      <td>241600.000000</td>\n",
       "      <td>241600.000000</td>\n",
       "      <td>241600.000000</td>\n",
       "    </tr>\n",
       "    <tr>\n",
       "      <th>mean</th>\n",
       "      <td>80.415364</td>\n",
       "      <td>80.415364</td>\n",
       "      <td>25.513113</td>\n",
       "      <td>13.935894</td>\n",
       "      <td>13.935894</td>\n",
       "      <td>17.371126</td>\n",
       "      <td>17.371126</td>\n",
       "      <td>5.000000</td>\n",
       "      <td>2.448609</td>\n",
       "      <td>2.448609</td>\n",
       "      <td>0.500000</td>\n",
       "      <td>0.500000</td>\n",
       "      <td>0.500000</td>\n",
       "      <td>0.500000</td>\n",
       "      <td>217.647852</td>\n",
       "      <td>217.579536</td>\n",
       "      <td>217.532756</td>\n",
       "      <td>217.527669</td>\n",
       "    </tr>\n",
       "    <tr>\n",
       "      <th>std</th>\n",
       "      <td>42.469220</td>\n",
       "      <td>42.469220</td>\n",
       "      <td>7.855619</td>\n",
       "      <td>7.873662</td>\n",
       "      <td>7.873662</td>\n",
       "      <td>9.389418</td>\n",
       "      <td>9.389418</td>\n",
       "      <td>3.000006</td>\n",
       "      <td>1.953759</td>\n",
       "      <td>1.953759</td>\n",
       "      <td>0.500001</td>\n",
       "      <td>0.500001</td>\n",
       "      <td>0.500001</td>\n",
       "      <td>0.500001</td>\n",
       "      <td>369.012422</td>\n",
       "      <td>368.677309</td>\n",
       "      <td>368.655118</td>\n",
       "      <td>368.677413</td>\n",
       "    </tr>\n",
       "    <tr>\n",
       "      <th>min</th>\n",
       "      <td>16.000000</td>\n",
       "      <td>16.000000</td>\n",
       "      <td>16.000000</td>\n",
       "      <td>8.000000</td>\n",
       "      <td>8.000000</td>\n",
       "      <td>8.000000</td>\n",
       "      <td>8.000000</td>\n",
       "      <td>2.000000</td>\n",
       "      <td>1.000000</td>\n",
       "      <td>1.000000</td>\n",
       "      <td>0.000000</td>\n",
       "      <td>0.000000</td>\n",
       "      <td>0.000000</td>\n",
       "      <td>0.000000</td>\n",
       "      <td>13.290000</td>\n",
       "      <td>13.250000</td>\n",
       "      <td>13.360000</td>\n",
       "      <td>13.370000</td>\n",
       "    </tr>\n",
       "    <tr>\n",
       "      <th>25%</th>\n",
       "      <td>32.000000</td>\n",
       "      <td>32.000000</td>\n",
       "      <td>16.000000</td>\n",
       "      <td>8.000000</td>\n",
       "      <td>8.000000</td>\n",
       "      <td>8.000000</td>\n",
       "      <td>8.000000</td>\n",
       "      <td>2.000000</td>\n",
       "      <td>1.000000</td>\n",
       "      <td>1.000000</td>\n",
       "      <td>0.000000</td>\n",
       "      <td>0.000000</td>\n",
       "      <td>0.000000</td>\n",
       "      <td>0.000000</td>\n",
       "      <td>40.660000</td>\n",
       "      <td>40.710000</td>\n",
       "      <td>40.660000</td>\n",
       "      <td>40.640000</td>\n",
       "    </tr>\n",
       "    <tr>\n",
       "      <th>50%</th>\n",
       "      <td>64.000000</td>\n",
       "      <td>64.000000</td>\n",
       "      <td>32.000000</td>\n",
       "      <td>8.000000</td>\n",
       "      <td>8.000000</td>\n",
       "      <td>16.000000</td>\n",
       "      <td>16.000000</td>\n",
       "      <td>5.000000</td>\n",
       "      <td>2.000000</td>\n",
       "      <td>2.000000</td>\n",
       "      <td>0.500000</td>\n",
       "      <td>0.500000</td>\n",
       "      <td>0.500000</td>\n",
       "      <td>0.500000</td>\n",
       "      <td>69.825000</td>\n",
       "      <td>69.930000</td>\n",
       "      <td>69.790000</td>\n",
       "      <td>69.820000</td>\n",
       "    </tr>\n",
       "    <tr>\n",
       "      <th>75%</th>\n",
       "      <td>128.000000</td>\n",
       "      <td>128.000000</td>\n",
       "      <td>32.000000</td>\n",
       "      <td>16.000000</td>\n",
       "      <td>16.000000</td>\n",
       "      <td>32.000000</td>\n",
       "      <td>32.000000</td>\n",
       "      <td>8.000000</td>\n",
       "      <td>4.000000</td>\n",
       "      <td>4.000000</td>\n",
       "      <td>1.000000</td>\n",
       "      <td>1.000000</td>\n",
       "      <td>1.000000</td>\n",
       "      <td>1.000000</td>\n",
       "      <td>228.530000</td>\n",
       "      <td>228.310000</td>\n",
       "      <td>228.320000</td>\n",
       "      <td>228.320000</td>\n",
       "    </tr>\n",
       "    <tr>\n",
       "      <th>max</th>\n",
       "      <td>128.000000</td>\n",
       "      <td>128.000000</td>\n",
       "      <td>32.000000</td>\n",
       "      <td>32.000000</td>\n",
       "      <td>32.000000</td>\n",
       "      <td>32.000000</td>\n",
       "      <td>32.000000</td>\n",
       "      <td>8.000000</td>\n",
       "      <td>8.000000</td>\n",
       "      <td>8.000000</td>\n",
       "      <td>1.000000</td>\n",
       "      <td>1.000000</td>\n",
       "      <td>1.000000</td>\n",
       "      <td>1.000000</td>\n",
       "      <td>3339.630000</td>\n",
       "      <td>3375.420000</td>\n",
       "      <td>3397.080000</td>\n",
       "      <td>3361.710000</td>\n",
       "    </tr>\n",
       "  </tbody>\n",
       "</table>\n",
       "</div>"
      ],
      "text/plain": [
       "       M-dimension Work-Group  N-dimension Work-Group  K-dimension Work-Group  \\\n",
       "count           241600.000000           241600.000000           241600.000000   \n",
       "mean                80.415364               80.415364               25.513113   \n",
       "std                 42.469220               42.469220                7.855619   \n",
       "min                 16.000000               16.000000               16.000000   \n",
       "25%                 32.000000               32.000000               16.000000   \n",
       "50%                 64.000000               64.000000               32.000000   \n",
       "75%                128.000000              128.000000               32.000000   \n",
       "max                128.000000              128.000000               32.000000   \n",
       "\n",
       "       M-dimension Inner-Most Major Block (C)  \\\n",
       "count                           241600.000000   \n",
       "mean                                13.935894   \n",
       "std                                  7.873662   \n",
       "min                                  8.000000   \n",
       "25%                                  8.000000   \n",
       "50%                                  8.000000   \n",
       "75%                                 16.000000   \n",
       "max                                 32.000000   \n",
       "\n",
       "       N-dimension Inner-Most Major Block (C)  \\\n",
       "count                           241600.000000   \n",
       "mean                                13.935894   \n",
       "std                                  7.873662   \n",
       "min                                  8.000000   \n",
       "25%                                  8.000000   \n",
       "50%                                  8.000000   \n",
       "75%                                 16.000000   \n",
       "max                                 32.000000   \n",
       "\n",
       "       M-dimension Inner-Most Major Block (A)  \\\n",
       "count                           241600.000000   \n",
       "mean                                17.371126   \n",
       "std                                  9.389418   \n",
       "min                                  8.000000   \n",
       "25%                                  8.000000   \n",
       "50%                                 16.000000   \n",
       "75%                                 32.000000   \n",
       "max                                 32.000000   \n",
       "\n",
       "       N-dimension Inner-Most Major Block (B)  K-dimension Work-Item  \\\n",
       "count                           241600.000000          241600.000000   \n",
       "mean                                17.371126               5.000000   \n",
       "std                                  9.389418               3.000006   \n",
       "min                                  8.000000               2.000000   \n",
       "25%                                  8.000000               2.000000   \n",
       "50%                                 16.000000               5.000000   \n",
       "75%                                 32.000000               8.000000   \n",
       "max                                 32.000000               8.000000   \n",
       "\n",
       "       Vector Width M  Vector Width N       Stride M       Stride N  \\\n",
       "count   241600.000000   241600.000000  241600.000000  241600.000000   \n",
       "mean         2.448609        2.448609       0.500000       0.500000   \n",
       "std          1.953759        1.953759       0.500001       0.500001   \n",
       "min          1.000000        1.000000       0.000000       0.000000   \n",
       "25%          1.000000        1.000000       0.000000       0.000000   \n",
       "50%          2.000000        2.000000       0.500000       0.500000   \n",
       "75%          4.000000        4.000000       1.000000       1.000000   \n",
       "max          8.000000        8.000000       1.000000       1.000000   \n",
       "\n",
       "            Stride A       Stride B  Run 1 (milliseconds)  \\\n",
       "count  241600.000000  241600.000000         241600.000000   \n",
       "mean        0.500000       0.500000            217.647852   \n",
       "std         0.500001       0.500001            369.012422   \n",
       "min         0.000000       0.000000             13.290000   \n",
       "25%         0.000000       0.000000             40.660000   \n",
       "50%         0.500000       0.500000             69.825000   \n",
       "75%         1.000000       1.000000            228.530000   \n",
       "max         1.000000       1.000000           3339.630000   \n",
       "\n",
       "       Run 2 (milliseconds)  Run 3 (milliseconds)  Run 4 (milliseconds)  \n",
       "count         241600.000000         241600.000000         241600.000000  \n",
       "mean             217.579536            217.532756            217.527669  \n",
       "std              368.677309            368.655118            368.677413  \n",
       "min               13.250000             13.360000             13.370000  \n",
       "25%               40.710000             40.660000             40.640000  \n",
       "50%               69.930000             69.790000             69.820000  \n",
       "75%              228.310000            228.320000            228.320000  \n",
       "max             3375.420000           3397.080000           3361.710000  "
      ]
     },
     "execution_count": 19,
     "metadata": {},
     "output_type": "execute_result"
    }
   ],
   "source": [
    "# Dataset Describe\n",
    "df.describe()"
   ]
  },
  {
   "cell_type": "markdown",
   "metadata": {
    "id": "PBTbrJXOngz2"
   },
   "source": [
    "### Variables Description"
   ]
  },
  {
   "cell_type": "markdown",
   "metadata": {
    "id": "aJV4KIxSnxay"
   },
   "source": [
    "### Configuration Variables:\n",
    "These variables represent the configurable parameters used in the SGEMM (Single-precision General Matrix Multiply) operations. Each unique combination of these parameters defines a specific SGEMM kernel configuration, which influences its performance.\n",
    "\n",
    "* M-dimension Work-Group (MWG): This represents the size of the work-group in the M-dimension of the matrix multiplication. In parallel computing environments like GPUs, work-groups are groups of threads that execute together and can efficiently share data. A larger work-group size in this dimension means more computation along the M-dimension is handled by a single work-group.\n",
    "\n",
    "* N-dimension Work-Group (NWG): Similar to 'M-dimension Work-Group', this specifies the size of the work-group in the N-dimension of the matrix multiplication.\n",
    "\n",
    "* K-dimension Work-Group (KWG): This defines the size of the work-group in the K-dimension of the matrix multiplication.\n",
    "\n",
    "* M-dimension Inner-Most Major Block (C) (MDIMC): This refers to the size of the innermost tile or block applied to the output matrix C in the M-dimension. Tiling is a technique to improve data locality and performance by processing data in smaller, cache-friendly blocks.\n",
    "\n",
    "* N-dimension Inner-Most Major Block (C) (NDIMC): Similar to 'M-dimension Inner-Most Major Block (C)', this specifies the innermost tile size for the output matrix C in the N-dimension.\n",
    "\n",
    "* M-dimension Inner-Most Major Block (A) (MDIMA): This represents the innermost tile size for input matrix A in its M-dimension.\n",
    "\n",
    "* N-dimension Inner-Most Major Block (B) (NDIMB): This represents the innermost tile size for input matrix B in its N-dimension.\n",
    "\n",
    "* K-dimension Work-Item (KWI): This parameter likely defines how many elements along the K-dimension are processed by an individual work-item (thread) or within a wavefront/warp (a group of threads that execute in lockstep on a GPU).\n",
    "\n",
    "* Vector Width M (VWM): This indicates the vectorization factor used in the M-dimension. Vectorization allows a single instruction to operate on multiple data elements simultaneously, which can significantly improve performance.\n",
    "\n",
    "* Vector Width N (VWN): Similar to 'Vector Width M', this indicates the vectorization factor used in the N-dimension.\n",
    "\n",
    "* Stride M (STRM): This parameter is likely related to the memory access patterns or strides used in the M-dimension. It can influence how data is accessed from memory, aiming to optimize cache efficiency and reduce memory bank conflicts.\n",
    "\n",
    "* Stride N (STRN): Similar to 'Stride M', this parameter is related to memory access patterns or strides used in the N-dimension.\n",
    "\n",
    "* Stride A (SA): This parameter is likely related to the memory access patterns or strides specifically for input matrix A.\n",
    "\n",
    "* Stride B (SB): This parameter is likely related to the memory access patterns or strides specifically for input matrix B.\n",
    "\n",
    "Performance Metrics:\n",
    "\n",
    "These columns represent the measured execution times of the SGEMM kernel for each specific configuration:\n",
    "\n",
    "Run 1 (milliseconds), Run 2 (milliseconds), Run 3 (milliseconds), Run 4 (milliseconds): These columns contain the measured execution times, in milliseconds, for four different runs of the SGEMM operation under the given configuration. Multiple runs are typically performed to account for variations in execution time due to system load or other factors, providing a more robust measure of performance.\n",
    "\n",
    "In summary, your dataset captures the performance (execution time) of various SGEMM configurations, allowing you to analyze how different optimization parameters impact the overall efficiency of matrix multiplication."
   ]
  },
  {
   "cell_type": "markdown",
   "metadata": {
    "id": "u3PMJOP6ngxN"
   },
   "source": [
    "### Check Unique Values for each variable."
   ]
  },
  {
   "cell_type": "code",
   "execution_count": 45,
   "metadata": {
    "id": "zms12Yq5n-jE"
   },
   "outputs": [
    {
     "data": {
      "text/plain": [
       "M-dimension Work-Group                         4\n",
       "N-dimension Work-Group                         4\n",
       "K-dimension Work-Group                         2\n",
       "M-dimension Inner-Most Major Block (C)         3\n",
       "N-dimension Inner-Most Major Block (C)         3\n",
       "M-dimension Inner-Most Major Block (A)         3\n",
       "N-dimension Inner-Most Major Block (B)         3\n",
       "K-dimension Work-Item                          2\n",
       "Vector Width M                                 4\n",
       "Vector Width N                                 4\n",
       "Stride M                                       2\n",
       "Stride N                                       2\n",
       "Stride A                                       2\n",
       "Stride B                                       2\n",
       "Run 1 (milliseconds)                       58161\n",
       "Run 2 (milliseconds)                       58269\n",
       "Run 3 (milliseconds)                       58264\n",
       "Run 4 (milliseconds)                       58154\n",
       "Average Run Time (ms)                     131488\n",
       "Average Run Time Category                     20\n",
       "dtype: int64"
      ]
     },
     "execution_count": 45,
     "metadata": {},
     "output_type": "execute_result"
    }
   ],
   "source": [
    "# Check Unique Values for each variable.\n",
    "df.nunique()"
   ]
  },
  {
   "cell_type": "markdown",
   "metadata": {
    "id": "dauF4eBmngu3"
   },
   "source": [
    "## 3. ***Data Wrangling***"
   ]
  },
  {
   "cell_type": "markdown",
   "metadata": {
    "id": "bKJF3rekwFvQ"
   },
   "source": [
    "### Data Wrangling Code"
   ]
  },
  {
   "cell_type": "code",
   "execution_count": 16,
   "metadata": {
    "id": "wk-9a2fpoLcV"
   },
   "outputs": [],
   "source": [
    "# Write your code to make your dataset analysis ready.\n",
    "\n",
    "# Define the mapping from short forms to full forms\n",
    "column_name_mapping = {\n",
    "    'MWG': 'M-dimension Work-Group',\n",
    "    'NWG': 'N-dimension Work-Group',\n",
    "    'KWG': 'K-dimension Work-Group',\n",
    "    'MDIMC': 'M-dimension Inner-Most Major Block (C)',\n",
    "    'NDIMC': 'N-dimension Inner-Most Major Block (C)',\n",
    "    'MDIMA': 'M-dimension Inner-Most Major Block (A)',\n",
    "    'NDIMB': 'N-dimension Inner-Most Major Block (B)',\n",
    "    'KWI': 'K-dimension Work-Item',\n",
    "    'VWM': 'Vector Width M',\n",
    "    'VWN': 'Vector Width N',\n",
    "    'STRM': 'Stride M',\n",
    "    'STRN': 'Stride N',\n",
    "    'SA': 'Stride A',\n",
    "    'SB': 'Stride B',\n",
    "    'Run1 (ms)': 'Run 1 (milliseconds)',\n",
    "    'Run2 (ms)': 'Run 2 (milliseconds)',\n",
    "    'Run3 (ms)': 'Run 3 (milliseconds)',\n",
    "    'Run4 (ms)': 'Run 4 (milliseconds)'\n",
    "}\n",
    "\n",
    "# Rename the columns\n",
    "df = df.rename(columns=column_name_mapping)"
   ]
  },
  {
   "cell_type": "code",
   "execution_count": 27,
   "metadata": {},
   "outputs": [
    {
     "data": {
      "text/plain": [
       "0         11\n",
       "1         10\n",
       "2         11\n",
       "3         11\n",
       "4         11\n",
       "          ..\n",
       "241595     0\n",
       "241596     3\n",
       "241597     3\n",
       "241598     1\n",
       "241599     0\n",
       "Name: Average Run Time Category, Length: 241600, dtype: int64"
      ]
     },
     "execution_count": 27,
     "metadata": {},
     "output_type": "execute_result"
    }
   ],
   "source": [
    "# Categorize 'Average Run Time (ms)' into 20 categories using qcut (quantiles)\n",
    "# This ensures that each category has roughly the same number of observations.\n",
    "df['Average Run Time Category'] = pd.qcut(df['Average Run Time (ms)'], q=20, labels=False, duplicates='drop')\n",
    "df['Average Run Time Category']"
   ]
  },
  {
   "cell_type": "markdown",
   "metadata": {
    "id": "MSa1f5Uengrz"
   },
   "source": [
    "### What all manipulations have you done and insights you found?"
   ]
  },
  {
   "cell_type": "markdown",
   "metadata": {
    "id": "LbyXE7I1olp8"
   },
   "source": [
    "I changed column names from short form to full form and I add a new column where i categorize run time into 20 categories"
   ]
  },
  {
   "cell_type": "markdown",
   "metadata": {
    "id": "GF8Ens_Soomf"
   },
   "source": [
    "## ***4. Data Vizualization, Storytelling & Experimenting with charts : Understand the relationships between variables***"
   ]
  },
  {
   "cell_type": "markdown",
   "metadata": {
    "id": "0wOQAZs5pc--"
   },
   "source": [
    "#### Chart - 1"
   ]
  },
  {
   "cell_type": "code",
   "execution_count": null,
   "metadata": {
    "id": "7v_ESjsspbW7"
   },
   "outputs": [],
   "source": [
    "# Chart - 1 visualization code"
   ]
  },
  {
   "cell_type": "markdown",
   "metadata": {
    "id": "K5QZ13OEpz2H"
   },
   "source": [
    "##### 1. Why did you pick the specific chart?"
   ]
  },
  {
   "cell_type": "markdown",
   "metadata": {
    "id": "XESiWehPqBRc"
   },
   "source": [
    "Answer Here."
   ]
  },
  {
   "cell_type": "markdown",
   "metadata": {
    "id": "lQ7QKXXCp7Bj"
   },
   "source": [
    "##### 2. What is/are the insight(s) found from the chart?"
   ]
  },
  {
   "cell_type": "markdown",
   "metadata": {
    "id": "C_j1G7yiqdRP"
   },
   "source": [
    "Answer Here"
   ]
  },
  {
   "cell_type": "markdown",
   "metadata": {
    "id": "448CDAPjqfQr"
   },
   "source": [
    "##### 3. Will the gained insights help creating a positive business impact?\n",
    "Are there any insights that lead to negative growth? Justify with specific reason."
   ]
  },
  {
   "cell_type": "markdown",
   "metadata": {
    "id": "3cspy4FjqxJW"
   },
   "source": [
    "Answer Here"
   ]
  },
  {
   "cell_type": "markdown",
   "metadata": {
    "id": "KSlN3yHqYklG"
   },
   "source": [
    "#### Chart - 2"
   ]
  },
  {
   "cell_type": "code",
   "execution_count": null,
   "metadata": {
    "id": "R4YgtaqtYklH"
   },
   "outputs": [],
   "source": [
    "# Chart - 2 visualization code"
   ]
  },
  {
   "cell_type": "markdown",
   "metadata": {
    "id": "t6dVpIINYklI"
   },
   "source": [
    "##### 1. Why did you pick the specific chart?"
   ]
  },
  {
   "cell_type": "markdown",
   "metadata": {
    "id": "5aaW0BYyYklI"
   },
   "source": [
    "Answer Here."
   ]
  },
  {
   "cell_type": "markdown",
   "metadata": {
    "id": "ijmpgYnKYklI"
   },
   "source": [
    "##### 2. What is/are the insight(s) found from the chart?"
   ]
  },
  {
   "cell_type": "markdown",
   "metadata": {
    "id": "PSx9atu2YklI"
   },
   "source": [
    "Answer Here"
   ]
  },
  {
   "cell_type": "markdown",
   "metadata": {
    "id": "-JiQyfWJYklI"
   },
   "source": [
    "##### 3. Will the gained insights help creating a positive business impact?\n",
    "Are there any insights that lead to negative growth? Justify with specific reason."
   ]
  },
  {
   "cell_type": "markdown",
   "metadata": {
    "id": "BcBbebzrYklV"
   },
   "source": [
    "Answer Here"
   ]
  },
  {
   "cell_type": "markdown",
   "metadata": {
    "id": "EM7whBJCYoAo"
   },
   "source": [
    "#### Chart - 3"
   ]
  },
  {
   "cell_type": "code",
   "execution_count": null,
   "metadata": {
    "id": "t6GMdE67YoAp"
   },
   "outputs": [],
   "source": [
    "# Chart - 3 visualization code"
   ]
  },
  {
   "cell_type": "markdown",
   "metadata": {
    "id": "fge-S5ZAYoAp"
   },
   "source": [
    "##### 1. Why did you pick the specific chart?"
   ]
  },
  {
   "cell_type": "markdown",
   "metadata": {
    "id": "5dBItgRVYoAp"
   },
   "source": [
    "Answer Here."
   ]
  },
  {
   "cell_type": "markdown",
   "metadata": {
    "id": "85gYPyotYoAp"
   },
   "source": [
    "##### 2. What is/are the insight(s) found from the chart?"
   ]
  },
  {
   "cell_type": "markdown",
   "metadata": {
    "id": "4jstXR6OYoAp"
   },
   "source": [
    "Answer Here"
   ]
  },
  {
   "cell_type": "markdown",
   "metadata": {
    "id": "RoGjAbkUYoAp"
   },
   "source": [
    "##### 3. Will the gained insights help creating a positive business impact?\n",
    "Are there any insights that lead to negative growth? Justify with specific reason."
   ]
  },
  {
   "cell_type": "markdown",
   "metadata": {
    "id": "zfJ8IqMcYoAp"
   },
   "source": [
    "Answer Here"
   ]
  },
  {
   "cell_type": "markdown",
   "metadata": {
    "id": "4Of9eVA-YrdM"
   },
   "source": [
    "#### Chart - 4"
   ]
  },
  {
   "cell_type": "code",
   "execution_count": null,
   "metadata": {
    "id": "irlUoxc8YrdO"
   },
   "outputs": [],
   "source": [
    "# Chart - 4 visualization code"
   ]
  },
  {
   "cell_type": "markdown",
   "metadata": {
    "id": "iky9q4vBYrdO"
   },
   "source": [
    "##### 1. Why did you pick the specific chart?"
   ]
  },
  {
   "cell_type": "markdown",
   "metadata": {
    "id": "aJRCwT6DYrdO"
   },
   "source": [
    "Answer Here."
   ]
  },
  {
   "cell_type": "markdown",
   "metadata": {
    "id": "F6T5p64dYrdO"
   },
   "source": [
    "##### 2. What is/are the insight(s) found from the chart?"
   ]
  },
  {
   "cell_type": "markdown",
   "metadata": {
    "id": "Xx8WAJvtYrdO"
   },
   "source": [
    "Answer Here"
   ]
  },
  {
   "cell_type": "markdown",
   "metadata": {
    "id": "y-Ehk30pYrdP"
   },
   "source": [
    "##### 3. Will the gained insights help creating a positive business impact?\n",
    "Are there any insights that lead to negative growth? Justify with specific reason."
   ]
  },
  {
   "cell_type": "markdown",
   "metadata": {
    "id": "jLNxxz7MYrdP"
   },
   "source": [
    "Answer Here"
   ]
  },
  {
   "cell_type": "markdown",
   "metadata": {
    "id": "bamQiAODYuh1"
   },
   "source": [
    "#### Chart - 5"
   ]
  },
  {
   "cell_type": "code",
   "execution_count": null,
   "metadata": {
    "id": "TIJwrbroYuh3"
   },
   "outputs": [],
   "source": [
    "# Chart - 5 visualization code"
   ]
  },
  {
   "cell_type": "markdown",
   "metadata": {
    "id": "QHF8YVU7Yuh3"
   },
   "source": [
    "##### 1. Why did you pick the specific chart?"
   ]
  },
  {
   "cell_type": "markdown",
   "metadata": {
    "id": "dcxuIMRPYuh3"
   },
   "source": [
    "Answer Here."
   ]
  },
  {
   "cell_type": "markdown",
   "metadata": {
    "id": "GwzvFGzlYuh3"
   },
   "source": [
    "##### 2. What is/are the insight(s) found from the chart?"
   ]
  },
  {
   "cell_type": "markdown",
   "metadata": {
    "id": "uyqkiB8YYuh3"
   },
   "source": [
    "Answer Here"
   ]
  },
  {
   "cell_type": "markdown",
   "metadata": {
    "id": "qYpmQ266Yuh3"
   },
   "source": [
    "##### 3. Will the gained insights help creating a positive business impact?\n",
    "Are there any insights that lead to negative growth? Justify with specific reason."
   ]
  },
  {
   "cell_type": "markdown",
   "metadata": {
    "id": "_WtzZ_hCYuh4"
   },
   "source": [
    "Answer Here"
   ]
  },
  {
   "cell_type": "markdown",
   "metadata": {
    "id": "OH-pJp9IphqM"
   },
   "source": [
    "#### Chart - 6"
   ]
  },
  {
   "cell_type": "code",
   "execution_count": null,
   "metadata": {
    "id": "kuRf4wtuphqN"
   },
   "outputs": [],
   "source": [
    "# Chart - 6 visualization code"
   ]
  },
  {
   "cell_type": "markdown",
   "metadata": {
    "id": "bbFf2-_FphqN"
   },
   "source": [
    "##### 1. Why did you pick the specific chart?"
   ]
  },
  {
   "cell_type": "markdown",
   "metadata": {
    "id": "loh7H2nzphqN"
   },
   "source": [
    "Answer Here."
   ]
  },
  {
   "cell_type": "markdown",
   "metadata": {
    "id": "_ouA3fa0phqN"
   },
   "source": [
    "##### 2. What is/are the insight(s) found from the chart?"
   ]
  },
  {
   "cell_type": "markdown",
   "metadata": {
    "id": "VECbqPI7phqN"
   },
   "source": [
    "Answer Here"
   ]
  },
  {
   "cell_type": "markdown",
   "metadata": {
    "id": "Seke61FWphqN"
   },
   "source": [
    "##### 3. Will the gained insights help creating a positive business impact?\n",
    "Are there any insights that lead to negative growth? Justify with specific reason."
   ]
  },
  {
   "cell_type": "markdown",
   "metadata": {
    "id": "DW4_bGpfphqN"
   },
   "source": [
    "Answer Here"
   ]
  },
  {
   "cell_type": "markdown",
   "metadata": {
    "id": "PIIx-8_IphqN"
   },
   "source": [
    "#### Chart - 7"
   ]
  },
  {
   "cell_type": "code",
   "execution_count": null,
   "metadata": {
    "id": "lqAIGUfyphqO"
   },
   "outputs": [],
   "source": [
    "# Chart - 7 visualization code"
   ]
  },
  {
   "cell_type": "markdown",
   "metadata": {
    "id": "t27r6nlMphqO"
   },
   "source": [
    "##### 1. Why did you pick the specific chart?"
   ]
  },
  {
   "cell_type": "markdown",
   "metadata": {
    "id": "iv6ro40sphqO"
   },
   "source": [
    "Answer Here."
   ]
  },
  {
   "cell_type": "markdown",
   "metadata": {
    "id": "r2jJGEOYphqO"
   },
   "source": [
    "##### 2. What is/are the insight(s) found from the chart?"
   ]
  },
  {
   "cell_type": "markdown",
   "metadata": {
    "id": "Po6ZPi4hphqO"
   },
   "source": [
    "Answer Here"
   ]
  },
  {
   "cell_type": "markdown",
   "metadata": {
    "id": "b0JNsNcRphqO"
   },
   "source": [
    "##### 3. Will the gained insights help creating a positive business impact?\n",
    "Are there any insights that lead to negative growth? Justify with specific reason."
   ]
  },
  {
   "cell_type": "markdown",
   "metadata": {
    "id": "xvSq8iUTphqO"
   },
   "source": [
    "Answer Here"
   ]
  },
  {
   "cell_type": "markdown",
   "metadata": {
    "id": "BZR9WyysphqO"
   },
   "source": [
    "#### Chart - 8"
   ]
  },
  {
   "cell_type": "code",
   "execution_count": null,
   "metadata": {
    "id": "TdPTWpAVphqO"
   },
   "outputs": [],
   "source": [
    "# Chart - 8 visualization code"
   ]
  },
  {
   "cell_type": "markdown",
   "metadata": {
    "id": "jj7wYXLtphqO"
   },
   "source": [
    "##### 1. Why did you pick the specific chart?"
   ]
  },
  {
   "cell_type": "markdown",
   "metadata": {
    "id": "Ob8u6rCTphqO"
   },
   "source": [
    "Answer Here."
   ]
  },
  {
   "cell_type": "markdown",
   "metadata": {
    "id": "eZrbJ2SmphqO"
   },
   "source": [
    "##### 2. What is/are the insight(s) found from the chart?"
   ]
  },
  {
   "cell_type": "markdown",
   "metadata": {
    "id": "mZtgC_hjphqO"
   },
   "source": [
    "Answer Here"
   ]
  },
  {
   "cell_type": "markdown",
   "metadata": {
    "id": "rFu4xreNphqO"
   },
   "source": [
    "##### 3. Will the gained insights help creating a positive business impact?\n",
    "Are there any insights that lead to negative growth? Justify with specific reason."
   ]
  },
  {
   "cell_type": "markdown",
   "metadata": {
    "id": "ey_0qi68phqO"
   },
   "source": [
    "Answer Here"
   ]
  },
  {
   "cell_type": "markdown",
   "metadata": {
    "id": "YJ55k-q6phqO"
   },
   "source": [
    "#### Chart - 9"
   ]
  },
  {
   "cell_type": "code",
   "execution_count": null,
   "metadata": {
    "id": "B2aS4O1ophqO"
   },
   "outputs": [],
   "source": [
    "# Chart - 9 visualization code"
   ]
  },
  {
   "cell_type": "markdown",
   "metadata": {
    "id": "gCFgpxoyphqP"
   },
   "source": [
    "##### 1. Why did you pick the specific chart?"
   ]
  },
  {
   "cell_type": "markdown",
   "metadata": {
    "id": "TVxDimi2phqP"
   },
   "source": [
    "Answer Here."
   ]
  },
  {
   "cell_type": "markdown",
   "metadata": {
    "id": "OVtJsKN_phqQ"
   },
   "source": [
    "##### 2. What is/are the insight(s) found from the chart?"
   ]
  },
  {
   "cell_type": "markdown",
   "metadata": {
    "id": "ngGi97qjphqQ"
   },
   "source": [
    "Answer Here"
   ]
  },
  {
   "cell_type": "markdown",
   "metadata": {
    "id": "lssrdh5qphqQ"
   },
   "source": [
    "##### 3. Will the gained insights help creating a positive business impact?\n",
    "Are there any insights that lead to negative growth? Justify with specific reason."
   ]
  },
  {
   "cell_type": "markdown",
   "metadata": {
    "id": "tBpY5ekJphqQ"
   },
   "source": [
    "Answer Here"
   ]
  },
  {
   "cell_type": "markdown",
   "metadata": {
    "id": "U2RJ9gkRphqQ"
   },
   "source": [
    "#### Chart - 10"
   ]
  },
  {
   "cell_type": "code",
   "execution_count": null,
   "metadata": {
    "id": "GM7a4YP4phqQ"
   },
   "outputs": [],
   "source": [
    "# Chart - 10 visualization code"
   ]
  },
  {
   "cell_type": "markdown",
   "metadata": {
    "id": "1M8mcRywphqQ"
   },
   "source": [
    "##### 1. Why did you pick the specific chart?"
   ]
  },
  {
   "cell_type": "markdown",
   "metadata": {
    "id": "8agQvks0phqQ"
   },
   "source": [
    "Answer Here."
   ]
  },
  {
   "cell_type": "markdown",
   "metadata": {
    "id": "tgIPom80phqQ"
   },
   "source": [
    "##### 2. What is/are the insight(s) found from the chart?"
   ]
  },
  {
   "cell_type": "markdown",
   "metadata": {
    "id": "Qp13pnNzphqQ"
   },
   "source": [
    "Answer Here"
   ]
  },
  {
   "cell_type": "markdown",
   "metadata": {
    "id": "JMzcOPDDphqR"
   },
   "source": [
    "##### 3. Will the gained insights help creating a positive business impact?\n",
    "Are there any insights that lead to negative growth? Justify with specific reason."
   ]
  },
  {
   "cell_type": "markdown",
   "metadata": {
    "id": "R4Ka1PC2phqR"
   },
   "source": [
    "Answer Here"
   ]
  },
  {
   "cell_type": "markdown",
   "metadata": {
    "id": "x-EpHcCOp1ci"
   },
   "source": [
    "#### Chart - 11"
   ]
  },
  {
   "cell_type": "code",
   "execution_count": null,
   "metadata": {
    "id": "mAQTIvtqp1cj"
   },
   "outputs": [],
   "source": [
    "# Chart - 11 visualization code"
   ]
  },
  {
   "cell_type": "markdown",
   "metadata": {
    "id": "X_VqEhTip1ck"
   },
   "source": [
    "##### 1. Why did you pick the specific chart?"
   ]
  },
  {
   "cell_type": "markdown",
   "metadata": {
    "id": "-vsMzt_np1ck"
   },
   "source": [
    "Answer Here."
   ]
  },
  {
   "cell_type": "markdown",
   "metadata": {
    "id": "8zGJKyg5p1ck"
   },
   "source": [
    "##### 2. What is/are the insight(s) found from the chart?"
   ]
  },
  {
   "cell_type": "markdown",
   "metadata": {
    "id": "ZYdMsrqVp1ck"
   },
   "source": [
    "Answer Here"
   ]
  },
  {
   "cell_type": "markdown",
   "metadata": {
    "id": "PVzmfK_Ep1ck"
   },
   "source": [
    "##### 3. Will the gained insights help creating a positive business impact?\n",
    "Are there any insights that lead to negative growth? Justify with specific reason."
   ]
  },
  {
   "cell_type": "markdown",
   "metadata": {
    "id": "druuKYZpp1ck"
   },
   "source": [
    "Answer Here"
   ]
  },
  {
   "cell_type": "markdown",
   "metadata": {
    "id": "n3dbpmDWp1ck"
   },
   "source": [
    "#### Chart - 12"
   ]
  },
  {
   "cell_type": "code",
   "execution_count": null,
   "metadata": {
    "id": "bwevp1tKp1ck"
   },
   "outputs": [],
   "source": [
    "# Chart - 12 visualization code"
   ]
  },
  {
   "cell_type": "markdown",
   "metadata": {
    "id": "ylSl6qgtp1ck"
   },
   "source": [
    "##### 1. Why did you pick the specific chart?"
   ]
  },
  {
   "cell_type": "markdown",
   "metadata": {
    "id": "m2xqNkiQp1ck"
   },
   "source": [
    "Answer Here."
   ]
  },
  {
   "cell_type": "markdown",
   "metadata": {
    "id": "ZWILFDl5p1ck"
   },
   "source": [
    "##### 2. What is/are the insight(s) found from the chart?"
   ]
  },
  {
   "cell_type": "markdown",
   "metadata": {
    "id": "x-lUsV2mp1ck"
   },
   "source": [
    "Answer Here"
   ]
  },
  {
   "cell_type": "markdown",
   "metadata": {
    "id": "M7G43BXep1ck"
   },
   "source": [
    "##### 3. Will the gained insights help creating a positive business impact?\n",
    "Are there any insights that lead to negative growth? Justify with specific reason."
   ]
  },
  {
   "cell_type": "markdown",
   "metadata": {
    "id": "5wwDJXsLp1cl"
   },
   "source": [
    "Answer Here"
   ]
  },
  {
   "cell_type": "markdown",
   "metadata": {
    "id": "Ag9LCva-p1cl"
   },
   "source": [
    "#### Chart - 13"
   ]
  },
  {
   "cell_type": "code",
   "execution_count": null,
   "metadata": {
    "id": "EUfxeq9-p1cl"
   },
   "outputs": [],
   "source": [
    "# Chart - 13 visualization code"
   ]
  },
  {
   "cell_type": "markdown",
   "metadata": {
    "id": "E6MkPsBcp1cl"
   },
   "source": [
    "##### 1. Why did you pick the specific chart?"
   ]
  },
  {
   "cell_type": "markdown",
   "metadata": {
    "id": "V22bRsFWp1cl"
   },
   "source": [
    "Answer Here."
   ]
  },
  {
   "cell_type": "markdown",
   "metadata": {
    "id": "2cELzS2fp1cl"
   },
   "source": [
    "##### 2. What is/are the insight(s) found from the chart?"
   ]
  },
  {
   "cell_type": "markdown",
   "metadata": {
    "id": "ozQPc2_Ip1cl"
   },
   "source": [
    "Answer Here"
   ]
  },
  {
   "cell_type": "markdown",
   "metadata": {
    "id": "3MPXvC8up1cl"
   },
   "source": [
    "##### 3. Will the gained insights help creating a positive business impact?\n",
    "Are there any insights that lead to negative growth? Justify with specific reason."
   ]
  },
  {
   "cell_type": "markdown",
   "metadata": {
    "id": "GL8l1tdLp1cl"
   },
   "source": [
    "Answer Here"
   ]
  },
  {
   "cell_type": "markdown",
   "metadata": {
    "id": "NC_X3p0fY2L0"
   },
   "source": [
    "#### Chart - 14 - Correlation Heatmap"
   ]
  },
  {
   "cell_type": "code",
   "execution_count": null,
   "metadata": {
    "id": "xyC9zolEZNRQ"
   },
   "outputs": [],
   "source": [
    "# Correlation Heatmap visualization code"
   ]
  },
  {
   "cell_type": "markdown",
   "metadata": {
    "id": "UV0SzAkaZNRQ"
   },
   "source": [
    "##### 1. Why did you pick the specific chart?"
   ]
  },
  {
   "cell_type": "markdown",
   "metadata": {
    "id": "DVPuT8LYZNRQ"
   },
   "source": [
    "Answer Here."
   ]
  },
  {
   "cell_type": "markdown",
   "metadata": {
    "id": "YPEH6qLeZNRQ"
   },
   "source": [
    "##### 2. What is/are the insight(s) found from the chart?"
   ]
  },
  {
   "cell_type": "markdown",
   "metadata": {
    "id": "bfSqtnDqZNRR"
   },
   "source": [
    "Answer Here"
   ]
  },
  {
   "cell_type": "markdown",
   "metadata": {
    "id": "q29F0dvdveiT"
   },
   "source": [
    "#### Chart - 15 - Pair Plot"
   ]
  },
  {
   "cell_type": "code",
   "execution_count": null,
   "metadata": {
    "id": "o58-TEIhveiU"
   },
   "outputs": [],
   "source": [
    "# Pair Plot visualization code"
   ]
  },
  {
   "cell_type": "markdown",
   "metadata": {
    "id": "EXh0U9oCveiU"
   },
   "source": [
    "##### 1. Why did you pick the specific chart?"
   ]
  },
  {
   "cell_type": "markdown",
   "metadata": {
    "id": "eMmPjTByveiU"
   },
   "source": [
    "Answer Here."
   ]
  },
  {
   "cell_type": "markdown",
   "metadata": {
    "id": "22aHeOlLveiV"
   },
   "source": [
    "##### 2. What is/are the insight(s) found from the chart?"
   ]
  },
  {
   "cell_type": "markdown",
   "metadata": {
    "id": "uPQ8RGwHveiV"
   },
   "source": [
    "Answer Here"
   ]
  },
  {
   "cell_type": "markdown",
   "metadata": {
    "id": "g-ATYxFrGrvw"
   },
   "source": [
    "## ***5. Hypothesis Testing***"
   ]
  },
  {
   "cell_type": "markdown",
   "metadata": {
    "id": "Yfr_Vlr8HBkt"
   },
   "source": [
    "### Based on your chart experiments, define three hypothetical statements from the dataset. In the next three questions, perform hypothesis testing to obtain final conclusion about the statements through your code and statistical testing."
   ]
  },
  {
   "cell_type": "markdown",
   "metadata": {
    "id": "-7MS06SUHkB-"
   },
   "source": [
    "Answer Here."
   ]
  },
  {
   "cell_type": "markdown",
   "metadata": {
    "id": "8yEUt7NnHlrM"
   },
   "source": [
    "### Hypothetical Statement - 1"
   ]
  },
  {
   "cell_type": "markdown",
   "metadata": {
    "id": "tEA2Xm5dHt1r"
   },
   "source": [
    "#### 1. State Your research hypothesis as a null hypothesis and alternate hypothesis."
   ]
  },
  {
   "cell_type": "markdown",
   "metadata": {
    "id": "HI9ZP0laH0D-"
   },
   "source": [
    "Answer Here."
   ]
  },
  {
   "cell_type": "markdown",
   "metadata": {
    "id": "I79__PHVH19G"
   },
   "source": [
    "#### 2. Perform an appropriate statistical test."
   ]
  },
  {
   "cell_type": "code",
   "execution_count": null,
   "metadata": {
    "id": "oZrfquKtyian"
   },
   "outputs": [],
   "source": [
    "# Perform Statistical Test to obtain P-Value"
   ]
  },
  {
   "cell_type": "markdown",
   "metadata": {
    "id": "Ou-I18pAyIpj"
   },
   "source": [
    "##### Which statistical test have you done to obtain P-Value?"
   ]
  },
  {
   "cell_type": "markdown",
   "metadata": {
    "id": "s2U0kk00ygSB"
   },
   "source": [
    "Answer Here."
   ]
  },
  {
   "cell_type": "markdown",
   "metadata": {
    "id": "fF3858GYyt-u"
   },
   "source": [
    "##### Why did you choose the specific statistical test?"
   ]
  },
  {
   "cell_type": "markdown",
   "metadata": {
    "id": "HO4K0gP5y3B4"
   },
   "source": [
    "Answer Here."
   ]
  },
  {
   "cell_type": "markdown",
   "metadata": {
    "id": "4_0_7-oCpUZd"
   },
   "source": [
    "### Hypothetical Statement - 2"
   ]
  },
  {
   "cell_type": "markdown",
   "metadata": {
    "id": "hwyV_J3ipUZe"
   },
   "source": [
    "#### 1. State Your research hypothesis as a null hypothesis and alternate hypothesis."
   ]
  },
  {
   "cell_type": "markdown",
   "metadata": {
    "id": "FnpLGJ-4pUZe"
   },
   "source": [
    "Answer Here."
   ]
  },
  {
   "cell_type": "markdown",
   "metadata": {
    "id": "3yB-zSqbpUZe"
   },
   "source": [
    "#### 2. Perform an appropriate statistical test."
   ]
  },
  {
   "cell_type": "code",
   "execution_count": null,
   "metadata": {
    "id": "sWxdNTXNpUZe"
   },
   "outputs": [],
   "source": [
    "# Perform Statistical Test to obtain P-Value"
   ]
  },
  {
   "cell_type": "markdown",
   "metadata": {
    "id": "dEUvejAfpUZe"
   },
   "source": [
    "##### Which statistical test have you done to obtain P-Value?"
   ]
  },
  {
   "cell_type": "markdown",
   "metadata": {
    "id": "oLDrPz7HpUZf"
   },
   "source": [
    "Answer Here."
   ]
  },
  {
   "cell_type": "markdown",
   "metadata": {
    "id": "Fd15vwWVpUZf"
   },
   "source": [
    "##### Why did you choose the specific statistical test?"
   ]
  },
  {
   "cell_type": "markdown",
   "metadata": {
    "id": "4xOGYyiBpUZf"
   },
   "source": [
    "Answer Here."
   ]
  },
  {
   "cell_type": "markdown",
   "metadata": {
    "id": "bn_IUdTipZyH"
   },
   "source": [
    "### Hypothetical Statement - 3"
   ]
  },
  {
   "cell_type": "markdown",
   "metadata": {
    "id": "49K5P_iCpZyH"
   },
   "source": [
    "#### 1. State Your research hypothesis as a null hypothesis and alternate hypothesis."
   ]
  },
  {
   "cell_type": "markdown",
   "metadata": {
    "id": "7gWI5rT9pZyH"
   },
   "source": [
    "Answer Here."
   ]
  },
  {
   "cell_type": "markdown",
   "metadata": {
    "id": "Nff-vKELpZyI"
   },
   "source": [
    "#### 2. Perform an appropriate statistical test."
   ]
  },
  {
   "cell_type": "code",
   "execution_count": null,
   "metadata": {
    "id": "s6AnJQjtpZyI"
   },
   "outputs": [],
   "source": [
    "# Perform Statistical Test to obtain P-Value"
   ]
  },
  {
   "cell_type": "markdown",
   "metadata": {
    "id": "kLW572S8pZyI"
   },
   "source": [
    "##### Which statistical test have you done to obtain P-Value?"
   ]
  },
  {
   "cell_type": "markdown",
   "metadata": {
    "id": "ytWJ8v15pZyI"
   },
   "source": [
    "Answer Here."
   ]
  },
  {
   "cell_type": "markdown",
   "metadata": {
    "id": "dWbDXHzopZyI"
   },
   "source": [
    "##### Why did you choose the specific statistical test?"
   ]
  },
  {
   "cell_type": "markdown",
   "metadata": {
    "id": "M99G98V6pZyI"
   },
   "source": [
    "Answer Here."
   ]
  },
  {
   "cell_type": "markdown",
   "metadata": {
    "id": "yLjJCtPM0KBk"
   },
   "source": [
    "## ***6. Feature Engineering & Data Pre-processing***"
   ]
  },
  {
   "cell_type": "markdown",
   "metadata": {
    "id": "xiyOF9F70UgQ"
   },
   "source": [
    "### 1. Handling Missing Values"
   ]
  },
  {
   "cell_type": "code",
   "execution_count": null,
   "metadata": {
    "id": "iRsAHk1K0fpS"
   },
   "outputs": [],
   "source": [
    "# Handling Missing Values & Missing Value Imputation"
   ]
  },
  {
   "cell_type": "markdown",
   "metadata": {
    "id": "7wuGOrhz0itI"
   },
   "source": [
    "#### What all missing value imputation techniques have you used and why did you use those techniques?"
   ]
  },
  {
   "cell_type": "markdown",
   "metadata": {
    "id": "1ixusLtI0pqI"
   },
   "source": [
    "Answer Here."
   ]
  },
  {
   "cell_type": "markdown",
   "metadata": {
    "id": "id1riN9m0vUs"
   },
   "source": [
    "### 2. Handling Outliers"
   ]
  },
  {
   "cell_type": "code",
   "execution_count": null,
   "metadata": {
    "id": "M6w2CzZf04JK"
   },
   "outputs": [],
   "source": [
    "# Handling Outliers & Outlier treatments"
   ]
  },
  {
   "cell_type": "markdown",
   "metadata": {
    "id": "578E2V7j08f6"
   },
   "source": [
    "##### What all outlier treatment techniques have you used and why did you use those techniques?"
   ]
  },
  {
   "cell_type": "markdown",
   "metadata": {
    "id": "uGZz5OrT1HH-"
   },
   "source": [
    "Answer Here."
   ]
  },
  {
   "cell_type": "markdown",
   "metadata": {
    "id": "89xtkJwZ18nB"
   },
   "source": [
    "### 3. Categorical Encoding"
   ]
  },
  {
   "cell_type": "code",
   "execution_count": null,
   "metadata": {
    "id": "21JmIYMG2hEo"
   },
   "outputs": [],
   "source": [
    "# Encode your categorical columns"
   ]
  },
  {
   "cell_type": "markdown",
   "metadata": {
    "id": "67NQN5KX2AMe"
   },
   "source": [
    "#### What all categorical encoding techniques have you used & why did you use those techniques?"
   ]
  },
  {
   "cell_type": "markdown",
   "metadata": {
    "id": "UDaue5h32n_G"
   },
   "source": [
    "Answer Here."
   ]
  },
  {
   "cell_type": "markdown",
   "metadata": {
    "id": "Iwf50b-R2tYG"
   },
   "source": [
    "### 4. Textual Data Preprocessing\n",
    "(It's mandatory for textual dataset i.e., NLP, Sentiment Analysis, Text Clustering etc.)"
   ]
  },
  {
   "cell_type": "markdown",
   "metadata": {
    "id": "GMQiZwjn3iu7"
   },
   "source": [
    "#### 1. Expand Contraction"
   ]
  },
  {
   "cell_type": "code",
   "execution_count": null,
   "metadata": {
    "id": "PTouz10C3oNN"
   },
   "outputs": [],
   "source": [
    "# Expand Contraction"
   ]
  },
  {
   "cell_type": "markdown",
   "metadata": {
    "id": "WVIkgGqN3qsr"
   },
   "source": [
    "#### 2. Lower Casing"
   ]
  },
  {
   "cell_type": "code",
   "execution_count": null,
   "metadata": {
    "id": "88JnJ1jN3w7j"
   },
   "outputs": [],
   "source": [
    "# Lower Casing"
   ]
  },
  {
   "cell_type": "markdown",
   "metadata": {
    "id": "XkPnILGE3zoT"
   },
   "source": [
    "#### 3. Removing Punctuations"
   ]
  },
  {
   "cell_type": "code",
   "execution_count": null,
   "metadata": {
    "id": "vqbBqNaA33c0"
   },
   "outputs": [],
   "source": [
    "# Remove Punctuations"
   ]
  },
  {
   "cell_type": "markdown",
   "metadata": {
    "id": "Hlsf0x5436Go"
   },
   "source": [
    "#### 4. Removing URLs & Removing words and digits contain digits."
   ]
  },
  {
   "cell_type": "code",
   "execution_count": null,
   "metadata": {
    "id": "2sxKgKxu4Ip3"
   },
   "outputs": [],
   "source": [
    "# Remove URLs & Remove words and digits contain digits"
   ]
  },
  {
   "cell_type": "markdown",
   "metadata": {
    "id": "mT9DMSJo4nBL"
   },
   "source": [
    "#### 5. Removing Stopwords & Removing White spaces"
   ]
  },
  {
   "cell_type": "code",
   "execution_count": null,
   "metadata": {
    "id": "T2LSJh154s8W"
   },
   "outputs": [],
   "source": [
    "# Remove Stopwords"
   ]
  },
  {
   "cell_type": "code",
   "execution_count": null,
   "metadata": {
    "id": "EgLJGffy4vm0"
   },
   "outputs": [],
   "source": [
    "# Remove White spaces"
   ]
  },
  {
   "cell_type": "markdown",
   "metadata": {
    "id": "c49ITxTc407N"
   },
   "source": [
    "#### 6. Rephrase Text"
   ]
  },
  {
   "cell_type": "code",
   "execution_count": null,
   "metadata": {
    "id": "foqY80Qu48N2"
   },
   "outputs": [],
   "source": [
    "# Rephrase Text"
   ]
  },
  {
   "cell_type": "markdown",
   "metadata": {
    "id": "OeJFEK0N496M"
   },
   "source": [
    "#### 7. Tokenization"
   ]
  },
  {
   "cell_type": "code",
   "execution_count": null,
   "metadata": {
    "id": "ijx1rUOS5CUU"
   },
   "outputs": [],
   "source": [
    "# Tokenization"
   ]
  },
  {
   "cell_type": "markdown",
   "metadata": {
    "id": "9ExmJH0g5HBk"
   },
   "source": [
    "#### 8. Text Normalization"
   ]
  },
  {
   "cell_type": "code",
   "execution_count": null,
   "metadata": {
    "id": "AIJ1a-Zc5PY8"
   },
   "outputs": [],
   "source": [
    "# Normalizing Text (i.e., Stemming, Lemmatization etc.)"
   ]
  },
  {
   "cell_type": "markdown",
   "metadata": {
    "id": "cJNqERVU536h"
   },
   "source": [
    "##### Which text normalization technique have you used and why?"
   ]
  },
  {
   "cell_type": "markdown",
   "metadata": {
    "id": "Z9jKVxE06BC1"
   },
   "source": [
    "Answer Here."
   ]
  },
  {
   "cell_type": "markdown",
   "metadata": {
    "id": "k5UmGsbsOxih"
   },
   "source": [
    "#### 9. Part of speech tagging"
   ]
  },
  {
   "cell_type": "code",
   "execution_count": null,
   "metadata": {
    "id": "btT3ZJBAO6Ik"
   },
   "outputs": [],
   "source": [
    "# POS Taging"
   ]
  },
  {
   "cell_type": "markdown",
   "metadata": {
    "id": "T0VqWOYE6DLQ"
   },
   "source": [
    "#### 10. Text Vectorization"
   ]
  },
  {
   "cell_type": "code",
   "execution_count": null,
   "metadata": {
    "id": "yBRtdhth6JDE"
   },
   "outputs": [],
   "source": [
    "# Vectorizing Text"
   ]
  },
  {
   "cell_type": "markdown",
   "metadata": {
    "id": "qBMux9mC6MCf"
   },
   "source": [
    "##### Which text vectorization technique have you used and why?"
   ]
  },
  {
   "cell_type": "markdown",
   "metadata": {
    "id": "su2EnbCh6UKQ"
   },
   "source": [
    "Answer Here."
   ]
  },
  {
   "cell_type": "markdown",
   "metadata": {
    "id": "-oLEiFgy-5Pf"
   },
   "source": [
    "### 4. Feature Manipulation & Selection"
   ]
  },
  {
   "cell_type": "markdown",
   "metadata": {
    "id": "C74aWNz2AliB"
   },
   "source": [
    "#### 1. Feature Manipulation"
   ]
  },
  {
   "cell_type": "code",
   "execution_count": null,
   "metadata": {
    "id": "h1qC4yhBApWC"
   },
   "outputs": [],
   "source": [
    "# Manipulate Features to minimize feature correlation and create new features"
   ]
  },
  {
   "cell_type": "markdown",
   "metadata": {
    "id": "2DejudWSA-a0"
   },
   "source": [
    "#### 2. Feature Selection"
   ]
  },
  {
   "cell_type": "code",
   "execution_count": null,
   "metadata": {
    "id": "YLhe8UmaBCEE"
   },
   "outputs": [],
   "source": [
    "# Select your features wisely to avoid overfitting"
   ]
  },
  {
   "cell_type": "markdown",
   "metadata": {
    "id": "pEMng2IbBLp7"
   },
   "source": [
    "##### What all feature selection methods have you used  and why?"
   ]
  },
  {
   "cell_type": "markdown",
   "metadata": {
    "id": "rb2Lh6Z8BgGs"
   },
   "source": [
    "Answer Here."
   ]
  },
  {
   "cell_type": "markdown",
   "metadata": {
    "id": "rAdphbQ9Bhjc"
   },
   "source": [
    "##### Which all features you found important and why?"
   ]
  },
  {
   "cell_type": "markdown",
   "metadata": {
    "id": "fGgaEstsBnaf"
   },
   "source": [
    "Answer Here."
   ]
  },
  {
   "cell_type": "markdown",
   "metadata": {
    "id": "TNVZ9zx19K6k"
   },
   "source": [
    "### 5. Data Transformation"
   ]
  },
  {
   "cell_type": "markdown",
   "metadata": {
    "id": "nqoHp30x9hH9"
   },
   "source": [
    "#### Do you think that your data needs to be transformed? If yes, which transformation have you used. Explain Why?"
   ]
  },
  {
   "cell_type": "code",
   "execution_count": null,
   "metadata": {
    "id": "I6quWQ1T9rtH"
   },
   "outputs": [],
   "source": [
    "# Transform Your data"
   ]
  },
  {
   "cell_type": "markdown",
   "metadata": {
    "id": "rMDnDkt2B6du"
   },
   "source": [
    "### 6. Data Scaling"
   ]
  },
  {
   "cell_type": "code",
   "execution_count": null,
   "metadata": {
    "id": "dL9LWpySC6x_"
   },
   "outputs": [],
   "source": [
    "# Scaling your data"
   ]
  },
  {
   "cell_type": "markdown",
   "metadata": {
    "id": "yiiVWRdJDDil"
   },
   "source": [
    "##### Which method have you used to scale you data and why?"
   ]
  },
  {
   "cell_type": "markdown",
   "metadata": {
    "id": "1UUpS68QDMuG"
   },
   "source": [
    "### 7. Dimesionality Reduction"
   ]
  },
  {
   "cell_type": "markdown",
   "metadata": {
    "id": "kexQrXU-DjzY"
   },
   "source": [
    "##### Do you think that dimensionality reduction is needed? Explain Why?"
   ]
  },
  {
   "cell_type": "markdown",
   "metadata": {
    "id": "GGRlBsSGDtTQ"
   },
   "source": [
    "Answer Here."
   ]
  },
  {
   "cell_type": "code",
   "execution_count": null,
   "metadata": {
    "id": "kQfvxBBHDvCa"
   },
   "outputs": [],
   "source": [
    "# DImensionality Reduction (If needed)"
   ]
  },
  {
   "cell_type": "markdown",
   "metadata": {
    "id": "T5CmagL3EC8N"
   },
   "source": [
    "##### Which dimensionality reduction technique have you used and why? (If dimensionality reduction done on dataset.)"
   ]
  },
  {
   "cell_type": "markdown",
   "metadata": {
    "id": "ZKr75IDuEM7t"
   },
   "source": [
    "Answer Here."
   ]
  },
  {
   "cell_type": "markdown",
   "metadata": {
    "id": "BhH2vgX9EjGr"
   },
   "source": [
    "### 8. Data Splitting"
   ]
  },
  {
   "cell_type": "code",
   "execution_count": null,
   "metadata": {
    "id": "0CTyd2UwEyNM"
   },
   "outputs": [],
   "source": [
    "# Split your data to train and test. Choose Splitting ratio wisely."
   ]
  },
  {
   "cell_type": "markdown",
   "metadata": {
    "id": "qjKvONjwE8ra"
   },
   "source": [
    "##### What data splitting ratio have you used and why?"
   ]
  },
  {
   "cell_type": "markdown",
   "metadata": {
    "id": "Y2lJ8cobFDb_"
   },
   "source": [
    "Answer Here."
   ]
  },
  {
   "cell_type": "markdown",
   "metadata": {
    "id": "P1XJ9OREExlT"
   },
   "source": [
    "### 9. Handling Imbalanced Dataset"
   ]
  },
  {
   "cell_type": "markdown",
   "metadata": {
    "id": "VFOzZv6IFROw"
   },
   "source": [
    "##### Do you think the dataset is imbalanced? Explain Why."
   ]
  },
  {
   "cell_type": "markdown",
   "metadata": {
    "id": "GeKDIv7pFgcC"
   },
   "source": [
    "Answer Here."
   ]
  },
  {
   "cell_type": "code",
   "execution_count": null,
   "metadata": {
    "id": "nQsRhhZLFiDs"
   },
   "outputs": [],
   "source": [
    "# Handling Imbalanced Dataset (If needed)"
   ]
  },
  {
   "cell_type": "markdown",
   "metadata": {
    "id": "TIqpNgepFxVj"
   },
   "source": [
    "##### What technique did you use to handle the imbalance dataset and why? (If needed to be balanced)"
   ]
  },
  {
   "cell_type": "markdown",
   "metadata": {
    "id": "qbet1HwdGDTz"
   },
   "source": [
    "Answer Here."
   ]
  },
  {
   "cell_type": "markdown",
   "metadata": {
    "id": "VfCC591jGiD4"
   },
   "source": [
    "## ***7. ML Model Implementation***"
   ]
  },
  {
   "cell_type": "markdown",
   "metadata": {
    "id": "OB4l2ZhMeS1U"
   },
   "source": [
    "### ML Model - 1"
   ]
  },
  {
   "cell_type": "code",
   "execution_count": null,
   "metadata": {
    "id": "7ebyywQieS1U"
   },
   "outputs": [],
   "source": [
    "# ML Model - 1 Implementation\n",
    "\n",
    "# Fit the Algorithm\n",
    "\n",
    "# Predict on the model"
   ]
  },
  {
   "cell_type": "markdown",
   "metadata": {
    "id": "ArJBuiUVfxKd"
   },
   "source": [
    "#### 1. Explain the ML Model used and it's performance using Evaluation metric Score Chart."
   ]
  },
  {
   "cell_type": "code",
   "execution_count": null,
   "metadata": {
    "id": "rqD5ZohzfxKe"
   },
   "outputs": [],
   "source": [
    "# Visualizing evaluation Metric Score chart"
   ]
  },
  {
   "cell_type": "markdown",
   "metadata": {
    "id": "4qY1EAkEfxKe"
   },
   "source": [
    "#### 2. Cross- Validation & Hyperparameter Tuning"
   ]
  },
  {
   "cell_type": "code",
   "execution_count": null,
   "metadata": {
    "id": "Dy61ujd6fxKe"
   },
   "outputs": [],
   "source": [
    "# ML Model - 1 Implementation with hyperparameter optimization techniques (i.e., GridSearch CV, RandomSearch CV, Bayesian Optimization etc.)\n",
    "\n",
    "# Fit the Algorithm\n",
    "\n",
    "# Predict on the model"
   ]
  },
  {
   "cell_type": "markdown",
   "metadata": {
    "id": "PiV4Ypx8fxKe"
   },
   "source": [
    "##### Which hyperparameter optimization technique have you used and why?"
   ]
  },
  {
   "cell_type": "markdown",
   "metadata": {
    "id": "negyGRa7fxKf"
   },
   "source": [
    "Answer Here."
   ]
  },
  {
   "cell_type": "markdown",
   "metadata": {
    "id": "TfvqoZmBfxKf"
   },
   "source": [
    "##### Have you seen any improvement? Note down the improvement with updates Evaluation metric Score Chart."
   ]
  },
  {
   "cell_type": "markdown",
   "metadata": {
    "id": "OaLui8CcfxKf"
   },
   "source": [
    "Answer Here."
   ]
  },
  {
   "cell_type": "markdown",
   "metadata": {
    "id": "dJ2tPlVmpsJ0"
   },
   "source": [
    "### ML Model - 2"
   ]
  },
  {
   "cell_type": "markdown",
   "metadata": {
    "id": "JWYfwnehpsJ1"
   },
   "source": [
    "#### 1. Explain the ML Model used and it's performance using Evaluation metric Score Chart."
   ]
  },
  {
   "cell_type": "code",
   "execution_count": null,
   "metadata": {
    "id": "yEl-hgQWpsJ1"
   },
   "outputs": [],
   "source": [
    "# Visualizing evaluation Metric Score chart"
   ]
  },
  {
   "cell_type": "markdown",
   "metadata": {
    "id": "-jK_YjpMpsJ2"
   },
   "source": [
    "#### 2. Cross- Validation & Hyperparameter Tuning"
   ]
  },
  {
   "cell_type": "code",
   "execution_count": null,
   "metadata": {
    "id": "Dn0EOfS6psJ2"
   },
   "outputs": [],
   "source": [
    "# ML Model - 1 Implementation with hyperparameter optimization techniques (i.e., GridSearch CV, RandomSearch CV, Bayesian Optimization etc.)\n",
    "\n",
    "# Fit the Algorithm\n",
    "\n",
    "# Predict on the model"
   ]
  },
  {
   "cell_type": "markdown",
   "metadata": {
    "id": "HAih1iBOpsJ2"
   },
   "source": [
    "##### Which hyperparameter optimization technique have you used and why?"
   ]
  },
  {
   "cell_type": "markdown",
   "metadata": {
    "id": "9kBgjYcdpsJ2"
   },
   "source": [
    "Answer Here."
   ]
  },
  {
   "cell_type": "markdown",
   "metadata": {
    "id": "zVGeBEFhpsJ2"
   },
   "source": [
    "##### Have you seen any improvement? Note down the improvement with updates Evaluation metric Score Chart."
   ]
  },
  {
   "cell_type": "markdown",
   "metadata": {
    "id": "74yRdG6UpsJ3"
   },
   "source": [
    "Answer Here."
   ]
  },
  {
   "cell_type": "markdown",
   "metadata": {
    "id": "bmKjuQ-FpsJ3"
   },
   "source": [
    "#### 3. Explain each evaluation metric's indication towards business and the business impact pf the ML model used."
   ]
  },
  {
   "cell_type": "markdown",
   "metadata": {
    "id": "BDKtOrBQpsJ3"
   },
   "source": [
    "Answer Here."
   ]
  },
  {
   "cell_type": "markdown",
   "metadata": {
    "id": "Fze-IPXLpx6K"
   },
   "source": [
    "### ML Model - 3"
   ]
  },
  {
   "cell_type": "code",
   "execution_count": null,
   "metadata": {
    "id": "FFrSXAtrpx6M"
   },
   "outputs": [],
   "source": [
    "# ML Model - 3 Implementation\n",
    "\n",
    "# Fit the Algorithm\n",
    "\n",
    "# Predict on the model"
   ]
  },
  {
   "cell_type": "markdown",
   "metadata": {
    "id": "7AN1z2sKpx6M"
   },
   "source": [
    "#### 1. Explain the ML Model used and it's performance using Evaluation metric Score Chart."
   ]
  },
  {
   "cell_type": "code",
   "execution_count": null,
   "metadata": {
    "id": "xIY4lxxGpx6M"
   },
   "outputs": [],
   "source": [
    "# Visualizing evaluation Metric Score chart"
   ]
  },
  {
   "cell_type": "markdown",
   "metadata": {
    "id": "9PIHJqyupx6M"
   },
   "source": [
    "#### 2. Cross- Validation & Hyperparameter Tuning"
   ]
  },
  {
   "cell_type": "code",
   "execution_count": null,
   "metadata": {
    "id": "eSVXuaSKpx6M"
   },
   "outputs": [],
   "source": [
    "# ML Model - 3 Implementation with hyperparameter optimization techniques (i.e., GridSearch CV, RandomSearch CV, Bayesian Optimization etc.)\n",
    "\n",
    "# Fit the Algorithm\n",
    "\n",
    "# Predict on the model"
   ]
  },
  {
   "cell_type": "markdown",
   "metadata": {
    "id": "_-qAgymDpx6N"
   },
   "source": [
    "##### Which hyperparameter optimization technique have you used and why?"
   ]
  },
  {
   "cell_type": "markdown",
   "metadata": {
    "id": "lQMffxkwpx6N"
   },
   "source": [
    "Answer Here."
   ]
  },
  {
   "cell_type": "markdown",
   "metadata": {
    "id": "Z-hykwinpx6N"
   },
   "source": [
    "##### Have you seen any improvement? Note down the improvement with updates Evaluation metric Score Chart."
   ]
  },
  {
   "cell_type": "markdown",
   "metadata": {
    "id": "MzVzZC6opx6N"
   },
   "source": [
    "Answer Here."
   ]
  },
  {
   "cell_type": "markdown",
   "metadata": {
    "id": "h_CCil-SKHpo"
   },
   "source": [
    "### 1. Which Evaluation metrics did you consider for a positive business impact and why?"
   ]
  },
  {
   "cell_type": "markdown",
   "metadata": {
    "id": "jHVz9hHDKFms"
   },
   "source": [
    "Answer Here."
   ]
  },
  {
   "cell_type": "markdown",
   "metadata": {
    "id": "cBFFvTBNJzUa"
   },
   "source": [
    "### 2. Which ML model did you choose from the above created models as your final prediction model and why?"
   ]
  },
  {
   "cell_type": "markdown",
   "metadata": {
    "id": "6ksF5Q1LKTVm"
   },
   "source": [
    "Answer Here."
   ]
  },
  {
   "cell_type": "markdown",
   "metadata": {
    "id": "HvGl1hHyA_VK"
   },
   "source": [
    "### 3. Explain the model which you have used and the feature importance using any model explainability tool?"
   ]
  },
  {
   "cell_type": "markdown",
   "metadata": {
    "id": "YnvVTiIxBL-C"
   },
   "source": [
    "Answer Here."
   ]
  },
  {
   "cell_type": "markdown",
   "metadata": {
    "id": "gCX9965dhzqZ"
   },
   "source": [
    "# **Conclusion**"
   ]
  },
  {
   "cell_type": "markdown",
   "metadata": {
    "id": "Fjb1IsQkh3yE"
   },
   "source": [
    "Write the conclusion here."
   ]
  },
  {
   "cell_type": "markdown",
   "metadata": {
    "id": "gIfDvo9L0UH2"
   },
   "source": [
    "### ***Hurrah! You have successfully completed your Machine Learning Capstone Project !!!***"
   ]
  }
 ],
 "metadata": {
  "colab": {
   "collapsed_sections": [
    "vncDsAP0Gaoa",
    "FJNUwmbgGyua",
    "w6K7xa23Elo4",
    "yQaldy8SH6Dl",
    "mDgbUHAGgjLW",
    "HhfV-JJviCcP",
    "Y3lxredqlCYt",
    "3RnN4peoiCZX",
    "x71ZqKXriCWQ",
    "7hBIi_osiCS2",
    "JlHwYmJAmNHm",
    "35m5QtbWiB9F",
    "PoPl-ycgm1ru",
    "H0kj-8xxnORC",
    "nA9Y7ga8ng1Z",
    "PBTbrJXOngz2",
    "u3PMJOP6ngxN",
    "dauF4eBmngu3",
    "bKJF3rekwFvQ",
    "MSa1f5Uengrz",
    "GF8Ens_Soomf",
    "0wOQAZs5pc--",
    "K5QZ13OEpz2H",
    "lQ7QKXXCp7Bj",
    "448CDAPjqfQr",
    "KSlN3yHqYklG",
    "t6dVpIINYklI",
    "ijmpgYnKYklI",
    "-JiQyfWJYklI",
    "EM7whBJCYoAo",
    "fge-S5ZAYoAp",
    "85gYPyotYoAp",
    "RoGjAbkUYoAp",
    "4Of9eVA-YrdM",
    "iky9q4vBYrdO",
    "F6T5p64dYrdO",
    "y-Ehk30pYrdP",
    "bamQiAODYuh1",
    "QHF8YVU7Yuh3",
    "GwzvFGzlYuh3",
    "qYpmQ266Yuh3",
    "OH-pJp9IphqM",
    "bbFf2-_FphqN",
    "_ouA3fa0phqN",
    "Seke61FWphqN",
    "PIIx-8_IphqN",
    "t27r6nlMphqO",
    "r2jJGEOYphqO",
    "b0JNsNcRphqO",
    "BZR9WyysphqO",
    "jj7wYXLtphqO",
    "eZrbJ2SmphqO",
    "rFu4xreNphqO",
    "YJ55k-q6phqO",
    "gCFgpxoyphqP",
    "OVtJsKN_phqQ",
    "lssrdh5qphqQ",
    "U2RJ9gkRphqQ",
    "1M8mcRywphqQ",
    "tgIPom80phqQ",
    "JMzcOPDDphqR",
    "x-EpHcCOp1ci",
    "X_VqEhTip1ck",
    "8zGJKyg5p1ck",
    "PVzmfK_Ep1ck",
    "n3dbpmDWp1ck",
    "ylSl6qgtp1ck",
    "ZWILFDl5p1ck",
    "M7G43BXep1ck",
    "Ag9LCva-p1cl",
    "E6MkPsBcp1cl",
    "2cELzS2fp1cl",
    "3MPXvC8up1cl",
    "NC_X3p0fY2L0",
    "UV0SzAkaZNRQ",
    "YPEH6qLeZNRQ",
    "q29F0dvdveiT",
    "EXh0U9oCveiU",
    "22aHeOlLveiV",
    "g-ATYxFrGrvw",
    "Yfr_Vlr8HBkt",
    "8yEUt7NnHlrM",
    "tEA2Xm5dHt1r",
    "I79__PHVH19G",
    "Ou-I18pAyIpj",
    "fF3858GYyt-u",
    "4_0_7-oCpUZd",
    "hwyV_J3ipUZe",
    "3yB-zSqbpUZe",
    "dEUvejAfpUZe",
    "Fd15vwWVpUZf",
    "bn_IUdTipZyH",
    "49K5P_iCpZyH",
    "Nff-vKELpZyI",
    "kLW572S8pZyI",
    "dWbDXHzopZyI",
    "yLjJCtPM0KBk",
    "xiyOF9F70UgQ",
    "7wuGOrhz0itI",
    "id1riN9m0vUs",
    "578E2V7j08f6",
    "89xtkJwZ18nB",
    "67NQN5KX2AMe",
    "Iwf50b-R2tYG",
    "GMQiZwjn3iu7",
    "WVIkgGqN3qsr",
    "XkPnILGE3zoT",
    "Hlsf0x5436Go",
    "mT9DMSJo4nBL",
    "c49ITxTc407N",
    "OeJFEK0N496M",
    "9ExmJH0g5HBk",
    "cJNqERVU536h",
    "k5UmGsbsOxih",
    "T0VqWOYE6DLQ",
    "qBMux9mC6MCf",
    "-oLEiFgy-5Pf",
    "C74aWNz2AliB",
    "2DejudWSA-a0",
    "pEMng2IbBLp7",
    "rAdphbQ9Bhjc",
    "TNVZ9zx19K6k",
    "nqoHp30x9hH9",
    "rMDnDkt2B6du",
    "yiiVWRdJDDil",
    "1UUpS68QDMuG",
    "kexQrXU-DjzY",
    "T5CmagL3EC8N",
    "BhH2vgX9EjGr",
    "qjKvONjwE8ra",
    "P1XJ9OREExlT",
    "VFOzZv6IFROw",
    "TIqpNgepFxVj",
    "OB4l2ZhMeS1U",
    "ArJBuiUVfxKd",
    "4qY1EAkEfxKe",
    "PiV4Ypx8fxKe",
    "TfvqoZmBfxKf",
    "dJ2tPlVmpsJ0",
    "JWYfwnehpsJ1",
    "-jK_YjpMpsJ2",
    "HAih1iBOpsJ2",
    "zVGeBEFhpsJ2",
    "bmKjuQ-FpsJ3",
    "Fze-IPXLpx6K",
    "7AN1z2sKpx6M",
    "9PIHJqyupx6M",
    "_-qAgymDpx6N",
    "Z-hykwinpx6N",
    "h_CCil-SKHpo",
    "cBFFvTBNJzUa",
    "gCX9965dhzqZ",
    "gIfDvo9L0UH2"
   ],
   "private_outputs": true,
   "provenance": [
    {
     "file_id": "10B2s5af8INkHgIz_7XBjW3iNDbGY7ltx",
     "timestamp": 1721815487585
    }
   ]
  },
  "kernelspec": {
   "display_name": "Python [conda env:base] *",
   "language": "python",
   "name": "conda-base-py"
  },
  "language_info": {
   "codemirror_mode": {
    "name": "ipython",
    "version": 3
   },
   "file_extension": ".py",
   "mimetype": "text/x-python",
   "name": "python",
   "nbconvert_exporter": "python",
   "pygments_lexer": "ipython3",
   "version": "3.13.5"
  }
 },
 "nbformat": 4,
 "nbformat_minor": 4
}
