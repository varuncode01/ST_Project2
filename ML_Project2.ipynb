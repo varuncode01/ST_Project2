version https://git-lfs.github.com/spec/v1
oid sha256:562083eb4e9f56408cd9e258692a3dfa709c4c97bbef27effe60b7836c8655f4
size 138877798
