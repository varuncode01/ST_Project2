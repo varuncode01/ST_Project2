version https://git-lfs.github.com/spec/v1
oid sha256:cfad77324a3063a92f44200bcf3b33271840fd0dbdefb60fe1d223b8e5e474b5
size 215021
